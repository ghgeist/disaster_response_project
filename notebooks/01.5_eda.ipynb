{
 "cells": [
  {
   "cell_type": "markdown",
   "metadata": {},
   "source": [
    "### Import the libraries"
   ]
  },
  {
   "cell_type": "code",
   "execution_count": 51,
   "metadata": {},
   "outputs": [],
   "source": [
    "import pandas as pd\n",
    "import numpy as np\n",
    "import matplotlib.pyplot as plt\n",
    "from scripts.eda_functions import *"
   ]
  },
  {
   "cell_type": "markdown",
   "metadata": {},
   "source": [
    "### Load the Data"
   ]
  },
  {
   "cell_type": "code",
   "execution_count": 52,
   "metadata": {},
   "outputs": [],
   "source": [
    "# Define the data types for each column\n",
    "boolean_columns = ['request', 'offer', 'aid_related', 'medical_help', 'medical_products', 'search_and_rescue',\n",
    "                   'security', 'military', 'child_alone', 'water', 'food', 'shelter', 'clothing', 'money', \n",
    "                   'missing_people', 'refugees', 'death', 'other_aid', 'infrastructure_related', 'transport', \n",
    "                   'buildings', 'electricity', 'tools', 'hospitals', 'shops', 'aid_centers', 'other_infrastructure',\n",
    "                   'weather_related', 'floods', 'storm', 'fire', 'earthquake', 'cold', 'other_weather', 'direct_report']\n",
    "\n",
    "\n",
    "int_columns = ['id', 'related']\n",
    "\n",
    "string_columns = ['message', 'original', 'genre']\n",
    "\n",
    "# Create a dictionary specifying the data types for each column\n",
    "dtype_dict = {col: bool for col in boolean_columns}\n",
    "dtype_dict.update({col: int for col in int_columns})\n",
    "dtype_dict.update({col: str for col in string_columns})\n",
    "\n",
    "# Create a pandas dataframe from the csv file. Specify the data types of the columns\n",
    "df = pd.read_csv('data\\\\02_stg\\\\stg_disaster_messages.csv', dtype=dtype_dict)"
   ]
  },
  {
   "cell_type": "markdown",
   "metadata": {},
   "source": [
    "### Summarize the Consolidated and Deduplicate the Disaster Message Data"
   ]
  },
  {
   "cell_type": "code",
   "execution_count": 53,
   "metadata": {},
   "outputs": [],
   "source": [
    "#Summarize the consolidated and deduplicated disaster messages data\n",
    "summary_df = summarize_data(df)"
   ]
  },
  {
   "cell_type": "markdown",
   "metadata": {},
   "source": [
    "#### Taking a Look at Columns where Type = Object"
   ]
  },
  {
   "cell_type": "code",
   "execution_count": 54,
   "metadata": {},
   "outputs": [
    {
     "data": {
      "text/html": [
       "<div>\n",
       "<style scoped>\n",
       "    .dataframe tbody tr th:only-of-type {\n",
       "        vertical-align: middle;\n",
       "    }\n",
       "\n",
       "    .dataframe tbody tr th {\n",
       "        vertical-align: top;\n",
       "    }\n",
       "\n",
       "    .dataframe thead th {\n",
       "        text-align: right;\n",
       "    }\n",
       "</style>\n",
       "<table border=\"1\" class=\"dataframe\">\n",
       "  <thead>\n",
       "    <tr style=\"text-align: right;\">\n",
       "      <th></th>\n",
       "      <th>columns</th>\n",
       "      <th>unique_values</th>\n",
       "      <th>unique_percentage</th>\n",
       "      <th>missing_values</th>\n",
       "      <th>missing_percentage</th>\n",
       "      <th>type</th>\n",
       "    </tr>\n",
       "  </thead>\n",
       "  <tbody>\n",
       "    <tr>\n",
       "      <th>1</th>\n",
       "      <td>message</td>\n",
       "      <td>26177</td>\n",
       "      <td>99.85</td>\n",
       "      <td>0</td>\n",
       "      <td>0.00</td>\n",
       "      <td>object</td>\n",
       "    </tr>\n",
       "    <tr>\n",
       "      <th>2</th>\n",
       "      <td>original</td>\n",
       "      <td>9630</td>\n",
       "      <td>94.69</td>\n",
       "      <td>16046</td>\n",
       "      <td>61.21</td>\n",
       "      <td>object</td>\n",
       "    </tr>\n",
       "    <tr>\n",
       "      <th>3</th>\n",
       "      <td>genre</td>\n",
       "      <td>3</td>\n",
       "      <td>0.01</td>\n",
       "      <td>0</td>\n",
       "      <td>0.00</td>\n",
       "      <td>object</td>\n",
       "    </tr>\n",
       "  </tbody>\n",
       "</table>\n",
       "</div>"
      ],
      "text/plain": [
       "    columns  unique_values  unique_percentage  missing_values  \\\n",
       "1   message          26177              99.85               0   \n",
       "2  original           9630              94.69           16046   \n",
       "3     genre              3               0.01               0   \n",
       "\n",
       "   missing_percentage    type  \n",
       "1                0.00  object  \n",
       "2               61.21  object  \n",
       "3                0.00  object  "
      ]
     },
     "execution_count": 54,
     "metadata": {},
     "output_type": "execute_result"
    }
   ],
   "source": [
    "#Return the summary dataframe where type is object\n",
    "summary_df[summary_df['type'] == 'object']"
   ]
  },
  {
   "cell_type": "markdown",
   "metadata": {},
   "source": [
    "For me, the above table is interesting because only 61.21% of the messages have an 'original' version. I want to understand why this percentage is so low. To do this, I want to look at the original messages group by genre since all of the messages have a genre."
   ]
  },
  {
   "cell_type": "code",
   "execution_count": 55,
   "metadata": {},
   "outputs": [
    {
     "name": "stdout",
     "output_type": "stream",
     "text": [
      "There are 26216 rows in the dataframe\n",
      "All 10170 of the original messages are classified as 'direct'\n"
     ]
    },
    {
     "data": {
      "text/html": [
       "<div>\n",
       "<style scoped>\n",
       "    .dataframe tbody tr th:only-of-type {\n",
       "        vertical-align: middle;\n",
       "    }\n",
       "\n",
       "    .dataframe tbody tr th {\n",
       "        vertical-align: top;\n",
       "    }\n",
       "\n",
       "    .dataframe thead th {\n",
       "        text-align: right;\n",
       "    }\n",
       "</style>\n",
       "<table border=\"1\" class=\"dataframe\">\n",
       "  <thead>\n",
       "    <tr style=\"text-align: right;\">\n",
       "      <th></th>\n",
       "      <th>genre</th>\n",
       "      <th>message_count</th>\n",
       "    </tr>\n",
       "  </thead>\n",
       "  <tbody>\n",
       "    <tr>\n",
       "      <th>0</th>\n",
       "      <td>direct</td>\n",
       "      <td>10170</td>\n",
       "    </tr>\n",
       "    <tr>\n",
       "      <th>1</th>\n",
       "      <td>news</td>\n",
       "      <td>0</td>\n",
       "    </tr>\n",
       "    <tr>\n",
       "      <th>2</th>\n",
       "      <td>social</td>\n",
       "      <td>0</td>\n",
       "    </tr>\n",
       "  </tbody>\n",
       "</table>\n",
       "</div>"
      ],
      "text/plain": [
       "    genre  message_count\n",
       "0  direct          10170\n",
       "1    news              0\n",
       "2  social              0"
      ]
     },
     "execution_count": 55,
     "metadata": {},
     "output_type": "execute_result"
    }
   ],
   "source": [
    "# Calculate the total number of rows in the dataframe\n",
    "total_rows = df.shape[0]\n",
    "print(f'There are {total_rows} rows in the dataframe')\n",
    "\n",
    "#Group by genre, count the number of original messages. Sort by count in descending order\n",
    "genre_message_count = df.groupby('genre')['original'].count().sort_values(ascending=False)\n",
    "\n",
    "#Convert the series to a dataframe\n",
    "genre_message_count_df = genre_message_count.reset_index()\n",
    "genre_message_count_df.columns = ['genre', 'message_count']\n",
    "\n",
    "#Sum the message counts\n",
    "original_genre_count = genre_message_count_df['message_count'].sum()\n",
    "print(f\"All {original_genre_count} of the original messages are classified as 'direct'\")\n",
    "genre_message_count_df"
   ]
  },
  {
   "cell_type": "code",
   "execution_count": 56,
   "metadata": {},
   "outputs": [
    {
     "name": "stdout",
     "output_type": "stream",
     "text": [
      "Total rows: 26216\n",
      "Original messages with genre: 10170\n",
      "Percentage of original messages with genre: 38.79%\n"
     ]
    },
    {
     "data": {
      "text/html": [
       "<div>\n",
       "<style scoped>\n",
       "    .dataframe tbody tr th:only-of-type {\n",
       "        vertical-align: middle;\n",
       "    }\n",
       "\n",
       "    .dataframe tbody tr th {\n",
       "        vertical-align: top;\n",
       "    }\n",
       "\n",
       "    .dataframe thead th {\n",
       "        text-align: right;\n",
       "    }\n",
       "</style>\n",
       "<table border=\"1\" class=\"dataframe\">\n",
       "  <thead>\n",
       "    <tr style=\"text-align: right;\">\n",
       "      <th></th>\n",
       "      <th>genre</th>\n",
       "      <th>message_count</th>\n",
       "    </tr>\n",
       "  </thead>\n",
       "  <tbody>\n",
       "    <tr>\n",
       "      <th>0</th>\n",
       "      <td>direct</td>\n",
       "      <td>10170</td>\n",
       "    </tr>\n",
       "    <tr>\n",
       "      <th>1</th>\n",
       "      <td>news</td>\n",
       "      <td>0</td>\n",
       "    </tr>\n",
       "    <tr>\n",
       "      <th>2</th>\n",
       "      <td>social</td>\n",
       "      <td>0</td>\n",
       "    </tr>\n",
       "  </tbody>\n",
       "</table>\n",
       "</div>"
      ],
      "text/plain": [
       "    genre  message_count\n",
       "0  direct          10170\n",
       "1    news              0\n",
       "2  social              0"
      ]
     },
     "execution_count": 56,
     "metadata": {},
     "output_type": "execute_result"
    }
   ],
   "source": [
    "# Calculate the total number of rows\n",
    "total_rows = df.shape[0]\n",
    "print(f'Total rows: {total_rows}')\n",
    "\n",
    "#Calculate how many of the original messages have a genre\n",
    "original_genre_count = df['original'].count()\n",
    "print(f'Original messages with genre: {original_genre_count}')\n",
    "\n",
    "#Calculate the percentage of original messages with genre\n",
    "original_genre_percentage = round(original_genre_count / total_rows * 100, 2)\n",
    "print(f'Percentage of original messages with genre: {original_genre_percentage}%')\n",
    "\n",
    "#Group by genre, count the number of original messages. Sort by count in descending order\n",
    "genre_message_count = df.groupby('genre')['original'].count().sort_values(ascending=False)\n",
    "\n",
    "#Convert the series to a dataframe\n",
    "genre_message_count_df = genre_message_count.reset_index()\n",
    "genre_message_count_df.columns = ['genre', 'message_count']\n",
    "genre_message_count_df\n"
   ]
  },
  {
   "cell_type": "code",
   "execution_count": 57,
   "metadata": {},
   "outputs": [
    {
     "name": "stdout",
     "output_type": "stream",
     "text": [
      "There are 16046 messages with NaN 'original' values.\n",
      "26216\n"
     ]
    },
    {
     "data": {
      "text/html": [
       "<div>\n",
       "<style scoped>\n",
       "    .dataframe tbody tr th:only-of-type {\n",
       "        vertical-align: middle;\n",
       "    }\n",
       "\n",
       "    .dataframe tbody tr th {\n",
       "        vertical-align: top;\n",
       "    }\n",
       "\n",
       "    .dataframe thead th {\n",
       "        text-align: right;\n",
       "    }\n",
       "</style>\n",
       "<table border=\"1\" class=\"dataframe\">\n",
       "  <thead>\n",
       "    <tr style=\"text-align: right;\">\n",
       "      <th></th>\n",
       "      <th>genre</th>\n",
       "      <th>original_nan_count</th>\n",
       "    </tr>\n",
       "  </thead>\n",
       "  <tbody>\n",
       "    <tr>\n",
       "      <th>0</th>\n",
       "      <td>news</td>\n",
       "      <td>13054</td>\n",
       "    </tr>\n",
       "    <tr>\n",
       "      <th>1</th>\n",
       "      <td>social</td>\n",
       "      <td>2396</td>\n",
       "    </tr>\n",
       "    <tr>\n",
       "      <th>2</th>\n",
       "      <td>direct</td>\n",
       "      <td>596</td>\n",
       "    </tr>\n",
       "  </tbody>\n",
       "</table>\n",
       "</div>"
      ],
      "text/plain": [
       "    genre  original_nan_count\n",
       "0    news               13054\n",
       "1  social                2396\n",
       "2  direct                 596"
      ]
     },
     "execution_count": 57,
     "metadata": {},
     "output_type": "execute_result"
    }
   ],
   "source": [
    "#Using df, group by genre and count the number of messages where 'original' is NaN. Sort by count in descending order\n",
    "genre_message_nan_count = df[df['original'].isna()].groupby('genre')['message'].count().sort_values(ascending=False)\n",
    "\n",
    "#Convert the series to a dataframe\n",
    "genre_message_nan_count = genre_message_nan_count.reset_index()\n",
    "genre_message_nan_count.columns = ['genre', 'original_nan_count']\n",
    "\n",
    "#Print the sum of the values in 'original_nan_count'\n",
    "total_original_nan_count = genre_message_nan_count['original_nan_count'].sum()\n",
    "print(\"There are\", total_original_nan_count, \"messages with NaN 'original' values.\")\n",
    "print(original_genre_count + total_original_nan_count)\n",
    "genre_message_nan_count"
   ]
  },
  {
   "cell_type": "markdown",
   "metadata": {},
   "source": [
    "It looks like the messages in the dataset can be divided up into two categories:\n",
    "- Messages that are relevant to the hurricane sandy damage in Haiti\n",
    "- Messages that are not relevant to the hurricane sandy damage in\n",
    "It looks like all of the original messages are direct messages, and can be in either Haitian Creole or English"
   ]
  },
  {
   "cell_type": "markdown",
   "metadata": {},
   "source": [
    "### Taking a Look at the Columns where Type = Boolean"
   ]
  },
  {
   "cell_type": "code",
   "execution_count": 75,
   "metadata": {},
   "outputs": [
    {
     "data": {
      "text/html": [
       "<div>\n",
       "<style scoped>\n",
       "    .dataframe tbody tr th:only-of-type {\n",
       "        vertical-align: middle;\n",
       "    }\n",
       "\n",
       "    .dataframe tbody tr th {\n",
       "        vertical-align: top;\n",
       "    }\n",
       "\n",
       "    .dataframe thead th {\n",
       "        text-align: right;\n",
       "    }\n",
       "</style>\n",
       "<table border=\"1\" class=\"dataframe\">\n",
       "  <thead>\n",
       "    <tr style=\"text-align: right;\">\n",
       "      <th></th>\n",
       "      <th>has_original_message</th>\n",
       "      <th>genre</th>\n",
       "      <th>related</th>\n",
       "      <th>more_than_one_category</th>\n",
       "      <th>one_category</th>\n",
       "      <th>zero_categories</th>\n",
       "    </tr>\n",
       "  </thead>\n",
       "  <tbody>\n",
       "    <tr>\n",
       "      <th>0</th>\n",
       "      <td>False</td>\n",
       "      <td>direct</td>\n",
       "      <td>0</td>\n",
       "      <td>0</td>\n",
       "      <td>0</td>\n",
       "      <td>57</td>\n",
       "    </tr>\n",
       "    <tr>\n",
       "      <th>1</th>\n",
       "      <td>False</td>\n",
       "      <td>direct</td>\n",
       "      <td>1</td>\n",
       "      <td>421</td>\n",
       "      <td>7</td>\n",
       "      <td>111</td>\n",
       "    </tr>\n",
       "    <tr>\n",
       "      <th>2</th>\n",
       "      <td>False</td>\n",
       "      <td>news</td>\n",
       "      <td>0</td>\n",
       "      <td>0</td>\n",
       "      <td>0</td>\n",
       "      <td>2365</td>\n",
       "    </tr>\n",
       "    <tr>\n",
       "      <th>3</th>\n",
       "      <td>False</td>\n",
       "      <td>news</td>\n",
       "      <td>1</td>\n",
       "      <td>7674</td>\n",
       "      <td>218</td>\n",
       "      <td>2779</td>\n",
       "    </tr>\n",
       "    <tr>\n",
       "      <th>4</th>\n",
       "      <td>False</td>\n",
       "      <td>news</td>\n",
       "      <td>2</td>\n",
       "      <td>0</td>\n",
       "      <td>0</td>\n",
       "      <td>18</td>\n",
       "    </tr>\n",
       "    <tr>\n",
       "      <th>5</th>\n",
       "      <td>False</td>\n",
       "      <td>social</td>\n",
       "      <td>0</td>\n",
       "      <td>0</td>\n",
       "      <td>0</td>\n",
       "      <td>305</td>\n",
       "    </tr>\n",
       "    <tr>\n",
       "      <th>6</th>\n",
       "      <td>False</td>\n",
       "      <td>social</td>\n",
       "      <td>1</td>\n",
       "      <td>1601</td>\n",
       "      <td>53</td>\n",
       "      <td>399</td>\n",
       "    </tr>\n",
       "    <tr>\n",
       "      <th>7</th>\n",
       "      <td>False</td>\n",
       "      <td>social</td>\n",
       "      <td>2</td>\n",
       "      <td>0</td>\n",
       "      <td>0</td>\n",
       "      <td>38</td>\n",
       "    </tr>\n",
       "    <tr>\n",
       "      <th>8</th>\n",
       "      <td>True</td>\n",
       "      <td>direct</td>\n",
       "      <td>0</td>\n",
       "      <td>0</td>\n",
       "      <td>0</td>\n",
       "      <td>3395</td>\n",
       "    </tr>\n",
       "    <tr>\n",
       "      <th>9</th>\n",
       "      <td>True</td>\n",
       "      <td>direct</td>\n",
       "      <td>1</td>\n",
       "      <td>4646</td>\n",
       "      <td>165</td>\n",
       "      <td>1832</td>\n",
       "    </tr>\n",
       "    <tr>\n",
       "      <th>10</th>\n",
       "      <td>True</td>\n",
       "      <td>direct</td>\n",
       "      <td>2</td>\n",
       "      <td>0</td>\n",
       "      <td>0</td>\n",
       "      <td>132</td>\n",
       "    </tr>\n",
       "  </tbody>\n",
       "</table>\n",
       "</div>"
      ],
      "text/plain": [
       "    has_original_message   genre  related  more_than_one_category  \\\n",
       "0                  False  direct        0                       0   \n",
       "1                  False  direct        1                     421   \n",
       "2                  False    news        0                       0   \n",
       "3                  False    news        1                    7674   \n",
       "4                  False    news        2                       0   \n",
       "5                  False  social        0                       0   \n",
       "6                  False  social        1                    1601   \n",
       "7                  False  social        2                       0   \n",
       "8                   True  direct        0                       0   \n",
       "9                   True  direct        1                    4646   \n",
       "10                  True  direct        2                       0   \n",
       "\n",
       "    one_category  zero_categories  \n",
       "0              0               57  \n",
       "1              7              111  \n",
       "2              0             2365  \n",
       "3            218             2779  \n",
       "4              0               18  \n",
       "5              0              305  \n",
       "6             53              399  \n",
       "7              0               38  \n",
       "8              0             3395  \n",
       "9            165             1832  \n",
       "10             0              132  "
      ]
     },
     "execution_count": 75,
     "metadata": {},
     "output_type": "execute_result"
    }
   ],
   "source": [
    "#From df, create analysis_df\n",
    "analysis_df = df.copy()\n",
    "\n",
    "#Create a boolean indicating whether the 'original' column is null\n",
    "analysis_df['has_original_message'] = analysis_df['original'].notna()\n",
    "\n",
    "#Drop the following columns: 'id', 'message', 'original'\n",
    "analysis_df.drop(columns=['id', 'message', 'original'], inplace=True)\n",
    "\n",
    "# Create a new column that counts the number of True values in the boolean columns\n",
    "analysis_df['boolean_sum'] = analysis_df[boolean_columns].sum(axis=1)\n",
    "\n",
    "# Group by 'has_original_message', 'genre' and 'related'\n",
    "grouped = analysis_df.groupby(['has_original_message', 'genre', 'related'])\n",
    "\n",
    "# Calculate the metrics\n",
    "more_than_one_category = grouped['boolean_sum'].apply(lambda x: np.sum(x > 1))\n",
    "one_category = grouped['boolean_sum'].apply(lambda x: np.sum(x == 1))\n",
    "zero_categories = grouped['boolean_sum'].apply(lambda x: np.sum(x == 0))\n",
    "\n",
    "# Combine the Series into a DataFrame\n",
    "result = pd.concat([more_than_one_category, one_category, zero_categories], axis=1)\n",
    "result.columns = ['more_than_one_category', 'one_category', 'zero_categories']\n",
    "\n",
    "#Convert the series to a dataframe\n",
    "result = result.reset_index()\n",
    "result"
   ]
  },
  {
   "cell_type": "code",
   "execution_count": null,
   "metadata": {},
   "outputs": [],
   "source": []
  }
 ],
 "metadata": {
  "kernelspec": {
   "display_name": ".venv",
   "language": "python",
   "name": "python3"
  },
  "language_info": {
   "codemirror_mode": {
    "name": "ipython",
    "version": 3
   },
   "file_extension": ".py",
   "mimetype": "text/x-python",
   "name": "python",
   "nbconvert_exporter": "python",
   "pygments_lexer": "ipython3",
   "version": "3.12.0"
  }
 },
 "nbformat": 4,
 "nbformat_minor": 2
}
