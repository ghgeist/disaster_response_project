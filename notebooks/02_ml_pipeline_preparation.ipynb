{
 "cells": [
  {
   "cell_type": "markdown",
   "metadata": {},
   "source": [
    "# Import Libraries"
   ]
  },
  {
   "cell_type": "code",
   "execution_count": null,
   "metadata": {},
   "outputs": [],
   "source": [
    "#Import libraries\n",
    "import pandas as pd\n",
    "import numpy as np\n",
    "import string\n",
    "from sqlalchemy import create_engine\n",
    "from sqlalchemy.exc import SQLAlchemyError\n",
    "import re\n",
    "from nltk.tokenize import word_tokenize\n",
    "from nltk.corpus import stopwords\n",
    "from nltk.stem import WordNetLemmatizer\n",
    "from sklearn.model_selection import train_test_split\n",
    "from sklearn.feature_extraction.text import CountVectorizer, TfidfTransformer\n",
    "from sklearn.ensemble import RandomForestClassifier\n",
    "from sklearn.multioutput import MultiOutputClassifier\n",
    "from sklearn.pipeline import Pipeline\n",
    "from sklearn.metrics import classification_report\n",
    "from sklearn.model_selection import GridSearchCV\n",
    "import pandas as pd\n",
    "import json"
   ]
  },
  {
   "cell_type": "markdown",
   "metadata": {},
   "source": [
    "# Load the Data"
   ]
  },
  {
   "cell_type": "code",
   "execution_count": null,
   "metadata": {},
   "outputs": [],
   "source": [
    "FEATURE_COLUMNS =['message']\n",
    "TARGET_COLUMNS = [\n",
    "    'related', 'request', 'offer', 'aid_related', 'medical_help', 'medical_products', \n",
    "    'search_and_rescue', 'security', 'military', 'child_alone', 'water', 'food', \n",
    "    'shelter', 'clothing', 'money', 'missing_people', 'refugees', 'death', \n",
    "    'other_aid', 'infrastructure_related', 'transport', 'buildings', 'electricity', \n",
    "    'tools', 'hospitals', 'shops', 'aid_centers', 'other_infrastructure',\n",
    "    'weather_related', 'floods', 'storm', 'fire', 'earthquake', 'cold', \n",
    "    'other_weather', 'direct_report']\n",
    "\n",
    "STOPWORDS_SET = set(stopwords.words('english'))\n",
    "URL_REGEX = r\"http[s]?://(?:[a-zA-Z]|[0-9]|[$-_@.&+]|[!*\\\\(\\\\),]|(?:%[0-9a-fA-F][0-9a-fA-F]))+\"\n",
    "URL_PLACE_HOLDER = \"urlplaceholder\"\n",
    "\n",
    "def load_data(db_filepath, table_name, feature_columns, target_columns):\n",
    "    engine = create_engine(db_filepath)\n",
    "    # Create a dataframe from the engine\n",
    "    df = pd.read_sql_table(table_name, engine)\n",
    "    X = df.message.values\n",
    "    y = df[target_columns].values\n",
    "    return X, y\n",
    "\n",
    "#Load the data\n",
    "X, y = load_data(\n",
    "    'sqlite:///data/02_stg//stg_disaster_response.db',\n",
    "    'stg_disaster_response',\n",
    "    FEATURE_COLUMNS, \n",
    "    TARGET_COLUMNS\n",
    ")"
   ]
  },
  {
   "cell_type": "markdown",
   "metadata": {},
   "source": [
    "_Note_: This is a multi-label classification problem because a message can belong to 0, 1 or multiple categories"
   ]
  },
  {
   "cell_type": "markdown",
   "metadata": {},
   "source": [
    "# Check the Data"
   ]
  },
  {
   "cell_type": "code",
   "execution_count": 85,
   "metadata": {},
   "outputs": [],
   "source": [
    "# I need to check for a few things here:\n",
    "# - Check if X contains empty strings\n",
    "# - Check if y contains missing or infinite values\n",
    "# - Check if y is a 2D numpy array\n",
    "# - Check if x is a 1D numpy array\n",
    "# If all of these checks passs, then the rest of the code should run\n"
   ]
  },
  {
   "cell_type": "markdown",
   "metadata": {},
   "source": [
    "# Write a Function to Tokenize the Text"
   ]
  },
  {
   "cell_type": "code",
   "execution_count": null,
   "metadata": {},
   "outputs": [],
   "source": [
    "def tokenize(text):\n",
    "    \"\"\"\n",
    "    This function is designed to tokenize the message data\n",
    "    \"\"\"\n",
    "    # Detect and replace URLs\n",
    "    text = re.sub(URL_REGEX, URL_PLACE_HOLDER, text)\n",
    "    # Remove punctuation\n",
    "    text = text.translate(str.maketrans(\"\", \"\", string.punctuation))\n",
    "    # Tokenize text\n",
    "    tokens = word_tokenize(text)\n",
    "    # Remove stop words\n",
    "    tokens = [token for token in tokens if token not in STOPWORDS_SET]\n",
    "    # Lemmatize tokens\n",
    "    lemmatizer = WordNetLemmatizer()\n",
    "    cleaned_tokens = [lemmatizer.lemmatize(token.lower().strip()) for token in tokens]\n",
    "    return cleaned_tokens\n"
   ]
  },
  {
   "cell_type": "markdown",
   "metadata": {},
   "source": [
    "# Build a Machine Learning Pipeline"
   ]
  },
  {
   "cell_type": "code",
   "execution_count": null,
   "metadata": {},
   "outputs": [],
   "source": [
    "# Instantiate and configure the pipeline\n",
    "pipeline = Pipeline([\n",
    "    ('vect', CountVectorizer(tokenizer=tokenize)), # Tokenize and vectorize text\n",
    "    ('tfidf', TfidfTransformer(smooth_idf=False)), # Apply TF-IDF transformation\n",
    "    ('clf', MultiOutputClassifier(RandomForestClassifier(n_jobs=9))) # Use MultiOutputClassifier with RandomForest, n_jobs specifies cores\n",
    "])"
   ]
  },
  {
   "cell_type": "markdown",
   "metadata": {},
   "source": [
    "# Train the Pipeline"
   ]
  },
  {
   "cell_type": "code",
   "execution_count": null,
   "metadata": {},
   "outputs": [],
   "source": [
    "# Perform train test split\n",
    "X_train, X_test, y_train, y_test = train_test_split(X, y, test_size=0.33, random_state=42)\n",
    "\n",
    "# Fit the pipeline to the training data\n",
    "pipeline.fit(X_train, y_train)"
   ]
  },
  {
   "cell_type": "markdown",
   "metadata": {},
   "source": [
    "# Test the Model and Export the Test Results"
   ]
  },
  {
   "cell_type": "code",
   "execution_count": null,
   "metadata": {},
   "outputs": [],
   "source": [
    "# Assuming y_test and y_pred are your test labels and predicted labels respectively\n",
    "y_pred = pipeline.predict(X_test)\n",
    "\n",
    "# Create an empty list to store the results\n",
    "results = []\n",
    "\n",
    "for i, col in enumerate(TARGET_COLUMNS):\n",
    "    report = classification_report(y_test[:, i], y_pred[:, i], output_dict=True, zero_division=0)\n",
    "    for output_class, metrics in report.items():\n",
    "        if isinstance(metrics, dict):  # Ensure metrics is a dictionary\n",
    "            temp = metrics.copy()  # Create a copy of metrics to avoid modifying the original dictionary\n",
    "            temp['output_class'] = output_class\n",
    "            temp['category'] = col\n",
    "            results.append(temp)\n",
    "\n",
    "# Convert the results list to a DataFrame\n",
    "results_df = pd.DataFrame(results)\n",
    "\n",
    "#Re-arrange the columns so that category and output_class are the first two columns\n",
    "results_df = results_df[['category', 'output_class', 'precision', 'recall', 'f1-score', 'support']]\n",
    "results_df.to_csv('data\\\\04_fct\\\\fct_prediction_results.csv', index=False)\n",
    "results_df.head()"
   ]
  },
  {
   "cell_type": "markdown",
   "metadata": {},
   "source": [
    "# Improve the Model"
   ]
  },
  {
   "cell_type": "markdown",
   "metadata": {},
   "source": [
    "## Use GridSearch to find the best parameters based on the Accuracy Score (the default for GridSearch)"
   ]
  },
  {
   "cell_type": "code",
   "execution_count": null,
   "metadata": {},
   "outputs": [],
   "source": [
    "from models.train_classifier import tokenize #This needs to be here otherwise there will be a memory error\n",
    "\n",
    "pipeline = Pipeline([\n",
    "    #The default ngram_range is (1, 1)\n",
    "    ('vect', CountVectorizer(tokenizer=tokenize)),\n",
    "    ('tfidf', TfidfTransformer(smooth_idf=False)),\n",
    "    # This defaults to n_estimators=100 and min_samples_split=2\n",
    "    ('clf', MultiOutputClassifier(RandomForestClassifier(n_jobs=9)))\n",
    "])\n",
    "\n",
    "#Set up the grid search parameters\n",
    "parameters = {\n",
    "    'vect__ngram_range': ((1, 1), (1, 2)),\n",
    "    'clf__estimator__n_estimators': [50, 100, 200],\n",
    "    'clf__estimator__min_samples_split': [2, 3, 4]\n",
    "}\n",
    "\n",
    "cv = GridSearchCV(pipeline, param_grid=parameters, scoring='accuracy', n_jobs=9)\n",
    "\n",
    "# Fit the GridSearchCV object to the full training data\n",
    "cv.fit(X_train, y_train)\n",
    "\n",
    "# Get the results of the grid search\n",
    "cv_results = cv.cv_results_\n",
    "\n",
    "# Prepare a list to store the results\n",
    "results = []\n",
    "\n",
    "# For each set of parameters, store the parameters and the associated mean test score\n",
    "for params, mean_score in zip(cv_results['params'], cv_results['mean_test_score']):\n",
    "    results.append({'params': params, 'score': mean_score})\n",
    "\n",
    "for result in results:\n",
    "    print(result)\n",
    "    \n",
    "# Write the results to a .json file\n",
    "with open('data\\\\04_fct\\\\fct_accurancy_parameters.json', 'w') as f:\n",
    "    json.dump(results, f)"
   ]
  },
  {
   "cell_type": "markdown",
   "metadata": {},
   "source": [
    "## Accuracy Scoring Results\n",
    "Here are the best parameters if we score by accuracy:\n",
    " - clf__estimator__min_samples_split: 2\n",
    " - clf__estimator__n_estimators: 200 \n",
    " - vect__ngram_range: [1, 2]"
   ]
  },
  {
   "cell_type": "markdown",
   "metadata": {},
   "source": [
    "## Generate a Classification Report Based Upon the Best Parameters for Accuracy Scoring"
   ]
  },
  {
   "cell_type": "code",
   "execution_count": null,
   "metadata": {},
   "outputs": [],
   "source": [
    "#will need to input the best parameters into the pipeline\n",
    "pipeline_v2 = Pipeline([\n",
    "    #The improved model considers 1-grams and 2-grams instead of just 1-grams\n",
    "    ('vect', CountVectorizer(ngram_range=(1, 2))),\n",
    "    ('tfidf', TfidfTransformer(smooth_idf=False)),\n",
    "    # It also increases the n_estimators from 100 to 200. The min_samples_split remains the same\n",
    "    ('clf', MultiOutputClassifier(RandomForestClassifier(min_samples_split=2, n_estimators=200, n_jobs=9)))\n",
    "])\n",
    "\n",
    "# Perform train test split\n",
    "X_train, X_test, y_train, y_test = train_test_split(X, y, test_size=0.33, random_state=42)\n",
    "\n",
    "# Fit the pipeline to the training data - This takes about 9 minutes to run with 9 cores\n",
    "pipeline_v2.fit(X_train, y_train)\n",
    "\n",
    "# Assuming y_test and y_pred are your test labels and predicted labels respectively\n",
    "y_pred_opt = pipeline_v2.predict(X_test)\n",
    "\n",
    "# Create an empty list to store the results\n",
    "results = []\n",
    "\n",
    "for i, col in enumerate(TARGET_COLUMNS):\n",
    "    report = classification_report(y_test[:, i], y_pred_opt[:, i], output_dict=True, zero_division=0)\n",
    "    for output_class, metrics in report.items():\n",
    "        if isinstance(metrics, dict):  # Ensure metrics is a dictionary\n",
    "            temp = metrics.copy()  # Create a copy of metrics to avoid modifying the original dictionary\n",
    "            temp['output_class'] = output_class\n",
    "            temp['category'] = col\n",
    "            results.append(temp)\n",
    "\n",
    "# Convert the results list to a DataFrame\n",
    "results_df = pd.DataFrame(results)\n",
    "\n",
    "#Re-arrange the columns so that category and output_class are the first two columns\n",
    "results_df = results_df[['category', 'output_class', 'precision', 'recall', 'f1-score', 'support']]\n",
    "results_df.to_csv('data\\\\04_fct\\\\fct_prediction_results_optimized.csv', index=False)\n",
    "results_df.head()"
   ]
  },
  {
   "cell_type": "markdown",
   "metadata": {},
   "source": [
    "## Compare the Original Accuracy Parameters to the New Accuracy Parameters"
   ]
  },
  {
   "cell_type": "markdown",
   "metadata": {},
   "source": [
    "### Compare Scores per Category"
   ]
  },
  {
   "cell_type": "code",
   "execution_count": 90,
   "metadata": {},
   "outputs": [
    {
     "data": {
      "text/html": [
       "<div>\n",
       "<style scoped>\n",
       "    .dataframe tbody tr th:only-of-type {\n",
       "        vertical-align: middle;\n",
       "    }\n",
       "\n",
       "    .dataframe tbody tr th {\n",
       "        vertical-align: top;\n",
       "    }\n",
       "\n",
       "    .dataframe thead th {\n",
       "        text-align: right;\n",
       "    }\n",
       "</style>\n",
       "<table border=\"1\" class=\"dataframe\">\n",
       "  <thead>\n",
       "    <tr style=\"text-align: right;\">\n",
       "      <th></th>\n",
       "      <th>category</th>\n",
       "      <th>output_class</th>\n",
       "      <th>precision</th>\n",
       "      <th>recall</th>\n",
       "      <th>f1-score</th>\n",
       "      <th>support</th>\n",
       "    </tr>\n",
       "  </thead>\n",
       "  <tbody>\n",
       "    <tr>\n",
       "      <th>0</th>\n",
       "      <td>aid_centers</td>\n",
       "      <td>0</td>\n",
       "      <td>-0.00</td>\n",
       "      <td>-0.01</td>\n",
       "      <td>-0.01</td>\n",
       "      <td>8537.0</td>\n",
       "    </tr>\n",
       "    <tr>\n",
       "      <th>1</th>\n",
       "      <td>aid_centers</td>\n",
       "      <td>1</td>\n",
       "      <td>0.00</td>\n",
       "      <td>0.00</td>\n",
       "      <td>0.00</td>\n",
       "      <td>115.0</td>\n",
       "    </tr>\n",
       "    <tr>\n",
       "      <th>2</th>\n",
       "      <td>aid_centers</td>\n",
       "      <td>macro avg</td>\n",
       "      <td>-0.00</td>\n",
       "      <td>-0.01</td>\n",
       "      <td>-0.01</td>\n",
       "      <td>8652.0</td>\n",
       "    </tr>\n",
       "    <tr>\n",
       "      <th>3</th>\n",
       "      <td>aid_centers</td>\n",
       "      <td>weighted avg</td>\n",
       "      <td>-0.00</td>\n",
       "      <td>-0.01</td>\n",
       "      <td>-0.01</td>\n",
       "      <td>8652.0</td>\n",
       "    </tr>\n",
       "    <tr>\n",
       "      <th>4</th>\n",
       "      <td>aid_related</td>\n",
       "      <td>0</td>\n",
       "      <td>-4.77</td>\n",
       "      <td>7.08</td>\n",
       "      <td>0.67</td>\n",
       "      <td>5107.0</td>\n",
       "    </tr>\n",
       "  </tbody>\n",
       "</table>\n",
       "</div>"
      ],
      "text/plain": [
       "      category  output_class  precision  recall  f1-score  support\n",
       "0  aid_centers             0      -0.00   -0.01     -0.01   8537.0\n",
       "1  aid_centers             1       0.00    0.00      0.00    115.0\n",
       "2  aid_centers     macro avg      -0.00   -0.01     -0.01   8652.0\n",
       "3  aid_centers  weighted avg      -0.00   -0.01     -0.01   8652.0\n",
       "4  aid_related             0      -4.77    7.08      0.67   5107.0"
      ]
     },
     "execution_count": 90,
     "metadata": {},
     "output_type": "execute_result"
    }
   ],
   "source": [
    "#Import fct_prediction_results\n",
    "df_results = pd.read_csv('data\\\\04_fct\\\\fct_prediction_results.csv')\n",
    "\n",
    "#Import fct_prediction_results_optimized\n",
    "df_results_optimized = pd.read_csv('data\\\\04_fct\\\\fct_prediction_results_optimized.csv')\n",
    "\n",
    "# Set 'category' and 'output_class' as index\n",
    "df_results.set_index(['category', 'output_class', 'support'], inplace=True)\n",
    "df_results_optimized.set_index(['category', 'output_class'], inplace=True)\n",
    "\n",
    "# Calculate percent change for specific columns\n",
    "columns = ['precision', 'recall', 'f1-score']\n",
    "epsilon = 1e-7\n",
    "percent_change = round((df_results_optimized[columns] - df_results[columns]) / (df_results[columns] + epsilon) * 100, 2)\n",
    "\n",
    "# Reset index\n",
    "percent_change.reset_index(inplace=True)\n",
    "\n",
    "#Re-arrange the columns so that support is the last column\n",
    "percent_change = percent_change[['category', 'output_class', 'precision', 'recall', 'f1-score', 'support']]\n",
    "\n",
    "#Export the DataFrame to a .csv file\n",
    "percent_change.to_csv('data\\\\04_fct\\\\fct_percent_change_results.csv', index=False)\n",
    "\n",
    "#Inspect the first few rows of the DataFrame\n",
    "percent_change.head()"
   ]
  },
  {
   "cell_type": "markdown",
   "metadata": {},
   "source": [
    "### Compare Median Scores per Output Class"
   ]
  },
  {
   "cell_type": "code",
   "execution_count": 103,
   "metadata": {},
   "outputs": [
    {
     "data": {
      "text/html": [
       "<div>\n",
       "<style scoped>\n",
       "    .dataframe tbody tr th:only-of-type {\n",
       "        vertical-align: middle;\n",
       "    }\n",
       "\n",
       "    .dataframe tbody tr th {\n",
       "        vertical-align: top;\n",
       "    }\n",
       "\n",
       "    .dataframe thead th {\n",
       "        text-align: right;\n",
       "    }\n",
       "</style>\n",
       "<table border=\"1\" class=\"dataframe\">\n",
       "  <thead>\n",
       "    <tr style=\"text-align: right;\">\n",
       "      <th></th>\n",
       "      <th>output_class</th>\n",
       "      <th>precision</th>\n",
       "      <th>recall</th>\n",
       "      <th>f1-score</th>\n",
       "    </tr>\n",
       "  </thead>\n",
       "  <tbody>\n",
       "    <tr>\n",
       "      <th>0</th>\n",
       "      <td>0</td>\n",
       "      <td>-0.02</td>\n",
       "      <td>0.01</td>\n",
       "      <td>-0.00</td>\n",
       "    </tr>\n",
       "    <tr>\n",
       "      <th>1</th>\n",
       "      <td>1</td>\n",
       "      <td>2.48</td>\n",
       "      <td>-8.33</td>\n",
       "      <td>-5.92</td>\n",
       "    </tr>\n",
       "    <tr>\n",
       "      <th>2</th>\n",
       "      <td>2</td>\n",
       "      <td>60.37</td>\n",
       "      <td>12.50</td>\n",
       "      <td>32.77</td>\n",
       "    </tr>\n",
       "    <tr>\n",
       "      <th>3</th>\n",
       "      <td>macro avg</td>\n",
       "      <td>0.74</td>\n",
       "      <td>-0.83</td>\n",
       "      <td>-1.28</td>\n",
       "    </tr>\n",
       "    <tr>\n",
       "      <th>4</th>\n",
       "      <td>weighted avg</td>\n",
       "      <td>0.00</td>\n",
       "      <td>-0.01</td>\n",
       "      <td>-0.04</td>\n",
       "    </tr>\n",
       "  </tbody>\n",
       "</table>\n",
       "</div>"
      ],
      "text/plain": [
       "   output_class  precision  recall  f1-score\n",
       "0             0      -0.02    0.01     -0.00\n",
       "1             1       2.48   -8.33     -5.92\n",
       "2             2      60.37   12.50     32.77\n",
       "3     macro avg       0.74   -0.83     -1.28\n",
       "4  weighted avg       0.00   -0.01     -0.04"
      ]
     },
     "execution_count": 103,
     "metadata": {},
     "output_type": "execute_result"
    }
   ],
   "source": [
    "# Calculate the median percent change for precision, recall, and f1-score by output_class\n",
    "avg_changes_by_output_class = percent_change.groupby('output_class')[['precision', 'recall', 'f1-score']].median().round(2)\n",
    "\n",
    "#Convert avg_changes_by_output_class to a DataFrame\n",
    "avg_changes_by_output_class = avg_changes_by_output_class.reset_index()\n",
    "\n",
    "#Export the DataFrame to a .csv file\n",
    "avg_changes_by_output_class.to_csv('data\\\\04_fct\\\\fct_avg_changes_by_output_class.csv', index=False)\n",
    "\n",
    "avg_changes_by_output_class"
   ]
  },
  {
   "cell_type": "markdown",
   "metadata": {},
   "source": [
    "The data shows the new ML model significantly boosts precision in class 2, but at the cost of reduced recall in class 1. This trade-off decreases the F1-score for class 1, indicating a shift towards specialization in the model's performance across classes. "
   ]
  }
 ],
 "metadata": {
  "kernelspec": {
   "display_name": ".venv",
   "language": "python",
   "name": "python3"
  },
  "language_info": {
   "codemirror_mode": {
    "name": "ipython",
    "version": 3
   },
   "file_extension": ".py",
   "mimetype": "text/x-python",
   "name": "python",
   "nbconvert_exporter": "python",
   "pygments_lexer": "ipython3",
   "version": "3.12.0"
  }
 },
 "nbformat": 4,
 "nbformat_minor": 2
}
