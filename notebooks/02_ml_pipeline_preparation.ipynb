{
 "cells": [
  {
   "cell_type": "markdown",
   "metadata": {},
   "source": [
    "# Import Libraries"
   ]
  },
  {
   "cell_type": "code",
   "execution_count": 1,
   "metadata": {},
   "outputs": [],
   "source": [
    "#nltk downloads\n",
    "# import nltk\n",
    "# nltk.download('words')\n",
    "# nltk.download('punkt')\n",
    "# nltk.download('averaged_perceptron_tagger')\n",
    "# nltk.download('maxent_ne_chunker')\n",
    "# nltk.download('wordnet')\n",
    "\n",
    "# Standard library imports\n",
    "import gzip\n",
    "import json\n",
    "import os\n",
    "import pickle\n",
    "import re\n",
    "import string\n",
    "import time\n",
    "\n",
    "# Third-party imports\n",
    "import numpy as np\n",
    "import pandas as pd\n",
    "from nltk.corpus import stopwords\n",
    "from nltk.stem import WordNetLemmatizer\n",
    "from nltk.tokenize import word_tokenize\n",
    "from sklearn.ensemble import RandomForestClassifier\n",
    "from sklearn.feature_extraction.text import CountVectorizer, TfidfTransformer\n",
    "from sklearn.metrics import classification_report\n",
    "from sklearn.model_selection import GridSearchCV, train_test_split\n",
    "from sklearn.multioutput import MultiOutputClassifier\n",
    "from sklearn.pipeline import Pipeline\n",
    "from sqlalchemy import create_engine\n",
    "from sqlalchemy.exc import SQLAlchemyError\n",
    "\n",
    "from IPython.display import display, Markdown"
   ]
  },
  {
   "cell_type": "markdown",
   "metadata": {},
   "source": [
    "# Load the Data"
   ]
  },
  {
   "cell_type": "code",
   "execution_count": 8,
   "metadata": {},
   "outputs": [],
   "source": [
    "FEATURE_COLUMNS =['message']\n",
    "TARGET_COLUMNS = [\n",
    "    'related', 'request', 'offer', 'aid_related', 'medical_help', 'medical_products', \n",
    "    'search_and_rescue', 'security', 'military', 'child_alone', 'water', 'food', \n",
    "    'shelter', 'clothing', 'money', 'missing_people', 'refugees', 'death', \n",
    "    'other_aid', 'infrastructure_related', 'transport', 'buildings', 'electricity', \n",
    "    'tools', 'hospitals', 'shops', 'aid_centers', 'other_infrastructure',\n",
    "    'weather_related', 'floods', 'storm', 'fire', 'earthquake', 'cold', \n",
    "    'other_weather', 'direct_report']\n",
    "\n",
    "STOPWORDS_SET = set(stopwords.words('english'))\n",
    "URL_REGEX = r\"http[s]?://(?:[a-zA-Z]|[0-9]|[$-_@.&+]|[!*\\\\(\\\\),]|(?:%[0-9a-fA-F][0-9a-fA-F]))+\"\n",
    "URL_PLACE_HOLDER = \"urlplaceholder\"\n",
    "\n",
    "def load_data(db_filepath, table_name, feature_columns, target_columns):\n",
    "    engine = create_engine(db_filepath)\n",
    "    # Create a dataframe from the engine\n",
    "    df = pd.read_sql_table(table_name, engine)\n",
    "    X = df.message.values\n",
    "    y = df[target_columns].values\n",
    "    return X, y\n",
    "\n",
    "#Load the data\n",
    "X, y = load_data(\n",
    "    'sqlite:///data/02_stg//stg_disaster_response.db',\n",
    "    'stg_disaster_response',\n",
    "    FEATURE_COLUMNS, \n",
    "    TARGET_COLUMNS\n",
    ")"
   ]
  },
  {
   "cell_type": "markdown",
   "metadata": {},
   "source": [
    "_Note_: This is a multi-label classification problem because a message can belong to 0, 1 or multiple categories"
   ]
  },
  {
   "cell_type": "markdown",
   "metadata": {},
   "source": [
    "# Write a Function to Tokenize the Text"
   ]
  },
  {
   "cell_type": "code",
   "execution_count": 9,
   "metadata": {},
   "outputs": [],
   "source": [
    "def tokenize(text):\n",
    "    \"\"\"\n",
    "    This function is designed to tokenize the message data\n",
    "    \"\"\"\n",
    "    # Detect and replace URLs\n",
    "    text = re.sub(URL_REGEX, URL_PLACE_HOLDER, text)\n",
    "    # Remove punctuation\n",
    "    text = text.translate(str.maketrans(\"\", \"\", string.punctuation))\n",
    "    # Tokenize text\n",
    "    tokens = word_tokenize(text)\n",
    "    # Remove stop words\n",
    "    tokens = [token for token in tokens if token not in STOPWORDS_SET]\n",
    "    # Lemmatize tokens\n",
    "    lemmatizer = WordNetLemmatizer()\n",
    "    cleaned_tokens = [lemmatizer.lemmatize(token.lower().strip()) for token in tokens]\n",
    "    return cleaned_tokens\n"
   ]
  },
  {
   "cell_type": "markdown",
   "metadata": {},
   "source": [
    "# Build a Machine Learning Pipeline"
   ]
  },
  {
   "cell_type": "code",
   "execution_count": 10,
   "metadata": {},
   "outputs": [],
   "source": [
    "# Instantiate and configure the pipeline\n",
    "pipeline = Pipeline([\n",
    "    ('vect', CountVectorizer(tokenizer=tokenize)), # Tokenize and vectorize text\n",
    "    ('tfidf', TfidfTransformer(smooth_idf=False)), # Apply TF-IDF transformation\n",
    "    ('clf', MultiOutputClassifier(RandomForestClassifier(n_jobs=9))) # Use MultiOutputClassifier with RandomForest, n_jobs specifies cores\n",
    "])"
   ]
  },
  {
   "cell_type": "markdown",
   "metadata": {},
   "source": [
    "# Train the Pipeline"
   ]
  },
  {
   "cell_type": "code",
   "execution_count": 11,
   "metadata": {},
   "outputs": [
    {
     "name": "stderr",
     "output_type": "stream",
     "text": [
      "c:\\Users\\grant\\OneDrive\\Documents\\udacity_data_science_program\\05_disaster_response_project\\.venv\\Lib\\site-packages\\sklearn\\feature_extraction\\text.py:525: UserWarning: The parameter 'token_pattern' will not be used since 'tokenizer' is not None'\n",
      "  warnings.warn(\n"
     ]
    }
   ],
   "source": [
    "# Start the timer\n",
    "start_time = time.time()\n",
    "\n",
    "# Perform train test split\n",
    "X_train, X_test, y_train, y_test = train_test_split(X, y, test_size=0.33, random_state=42)\n",
    "\n",
    "# Fit the pipeline to the training data\n",
    "pipeline.fit(X_train, y_train)\n",
    "\n",
    "# End the timer and calculate the runtime\n",
    "end_time = time.time()\n",
    "pipeline_runtime = end_time - start_time"
   ]
  },
  {
   "cell_type": "markdown",
   "metadata": {},
   "source": [
    "# Test the Model and Export the Test Results"
   ]
  },
  {
   "cell_type": "code",
   "execution_count": 12,
   "metadata": {},
   "outputs": [
    {
     "data": {
      "text/html": [
       "<div>\n",
       "<style scoped>\n",
       "    .dataframe tbody tr th:only-of-type {\n",
       "        vertical-align: middle;\n",
       "    }\n",
       "\n",
       "    .dataframe tbody tr th {\n",
       "        vertical-align: top;\n",
       "    }\n",
       "\n",
       "    .dataframe thead th {\n",
       "        text-align: right;\n",
       "    }\n",
       "</style>\n",
       "<table border=\"1\" class=\"dataframe\">\n",
       "  <thead>\n",
       "    <tr style=\"text-align: right;\">\n",
       "      <th></th>\n",
       "      <th>category</th>\n",
       "      <th>output_class</th>\n",
       "      <th>precision</th>\n",
       "      <th>recall</th>\n",
       "      <th>f1-score</th>\n",
       "      <th>support</th>\n",
       "    </tr>\n",
       "  </thead>\n",
       "  <tbody>\n",
       "    <tr>\n",
       "      <th>0</th>\n",
       "      <td>related</td>\n",
       "      <td>0</td>\n",
       "      <td>0.702391</td>\n",
       "      <td>0.388155</td>\n",
       "      <td>0.500000</td>\n",
       "      <td>2043.0</td>\n",
       "    </tr>\n",
       "    <tr>\n",
       "      <th>1</th>\n",
       "      <td>related</td>\n",
       "      <td>1</td>\n",
       "      <td>0.832462</td>\n",
       "      <td>0.948679</td>\n",
       "      <td>0.886779</td>\n",
       "      <td>6547.0</td>\n",
       "    </tr>\n",
       "    <tr>\n",
       "      <th>2</th>\n",
       "      <td>related</td>\n",
       "      <td>macro avg</td>\n",
       "      <td>0.767427</td>\n",
       "      <td>0.668417</td>\n",
       "      <td>0.693389</td>\n",
       "      <td>8590.0</td>\n",
       "    </tr>\n",
       "    <tr>\n",
       "      <th>3</th>\n",
       "      <td>related</td>\n",
       "      <td>weighted avg</td>\n",
       "      <td>0.801527</td>\n",
       "      <td>0.815367</td>\n",
       "      <td>0.794790</td>\n",
       "      <td>8590.0</td>\n",
       "    </tr>\n",
       "    <tr>\n",
       "      <th>4</th>\n",
       "      <td>request</td>\n",
       "      <td>0</td>\n",
       "      <td>0.905425</td>\n",
       "      <td>0.976705</td>\n",
       "      <td>0.939715</td>\n",
       "      <td>7126.0</td>\n",
       "    </tr>\n",
       "  </tbody>\n",
       "</table>\n",
       "</div>"
      ],
      "text/plain": [
       "  category  output_class  precision    recall  f1-score  support\n",
       "0  related             0   0.702391  0.388155  0.500000   2043.0\n",
       "1  related             1   0.832462  0.948679  0.886779   6547.0\n",
       "2  related     macro avg   0.767427  0.668417  0.693389   8590.0\n",
       "3  related  weighted avg   0.801527  0.815367  0.794790   8590.0\n",
       "4  request             0   0.905425  0.976705  0.939715   7126.0"
      ]
     },
     "execution_count": 12,
     "metadata": {},
     "output_type": "execute_result"
    }
   ],
   "source": [
    "# Assuming y_test and y_pred are your test labels and predicted labels respectively\n",
    "y_pred = pipeline.predict(X_test)\n",
    "\n",
    "# Create an empty list to store the results\n",
    "results = []\n",
    "\n",
    "for i, col in enumerate(TARGET_COLUMNS):\n",
    "    report = classification_report(y_test[:, i], y_pred[:, i], output_dict=True, zero_division=0)\n",
    "    for output_class, metrics in report.items():\n",
    "        if isinstance(metrics, dict):  # Ensure metrics is a dictionary\n",
    "            temp = metrics.copy()  # Create a copy of metrics to avoid modifying the original dictionary\n",
    "            temp['output_class'] = output_class\n",
    "            temp['category'] = col\n",
    "            results.append(temp)\n",
    "\n",
    "# Convert the results list to a DataFrame\n",
    "results_df = pd.DataFrame(results)\n",
    "\n",
    "#Re-arrange the columns so that category and output_class are the first two columns\n",
    "results_df = results_df[['category', 'output_class', 'precision', 'recall', 'f1-score', 'support']]\n",
    "results_df.to_csv('data\\\\04_fct\\\\fct_prediction_results.csv', index=False)\n",
    "results_df.head()"
   ]
  },
  {
   "cell_type": "markdown",
   "metadata": {},
   "source": [
    "# Improve the Model"
   ]
  },
  {
   "cell_type": "markdown",
   "metadata": {},
   "source": [
    "## Use GridSearch to find the best parameters based on the Accuracy Score (the default for GridSearch)"
   ]
  },
  {
   "cell_type": "code",
   "execution_count": 13,
   "metadata": {},
   "outputs": [],
   "source": [
    "# from models.train_classifier import tokenize #This needs to be here otherwise there will be a memory error\n",
    "\n",
    "# pipeline = Pipeline([\n",
    "#     #The default ngram_range is (1, 1)\n",
    "#     ('vect', CountVectorizer(tokenizer=tokenize)),\n",
    "#     ('tfidf', TfidfTransformer(smooth_idf=False)),\n",
    "#     # This defaults to n_estimators=100 and min_samples_split=2\n",
    "#     ('clf', MultiOutputClassifier(RandomForestClassifier(n_jobs=9)))\n",
    "# ])\n",
    "\n",
    "# #Set up the grid search parameters\n",
    "# parameters = {\n",
    "#     'vect__ngram_range': ((1, 1), (1, 2)),\n",
    "#     'clf__estimator__n_estimators': [50, 100, 200],\n",
    "#     'clf__estimator__min_samples_split': [2, 3, 4]\n",
    "# }\n",
    "\n",
    "# cv = GridSearchCV(pipeline, param_grid=parameters, scoring='accuracy', n_jobs=9)\n",
    "\n",
    "# # Fit the GridSearchCV object to the full training data\n",
    "# cv.fit(X_train, y_train)\n",
    "\n",
    "# # Get the results of the grid search\n",
    "# cv_results = cv.cv_results_\n",
    "\n",
    "# # Prepare a list to store the results\n",
    "# results = []\n",
    "\n",
    "# # For each set of parameters, store the parameters and the associated mean test score\n",
    "# for params, mean_score in zip(cv_results['params'], cv_results['mean_test_score']):\n",
    "#     results.append({'params': params, 'score': mean_score})\n",
    "\n",
    "# for result in results:\n",
    "#     print(result)\n",
    "    \n",
    "# # Write the results to a .json file\n",
    "# with open('data\\\\04_fct\\\\fct_accurancy_parameters.json', 'w') as f:\n",
    "#     json.dump(results, f)"
   ]
  },
  {
   "cell_type": "markdown",
   "metadata": {},
   "source": [
    "## Accuracy Scoring Results\n",
    "Here are the best parameters if we score by accuracy:\n",
    " - clf__estimator__min_samples_split: 2\n",
    " - clf__estimator__n_estimators: 200 \n",
    " - vect__ngram_range: [1, 2]"
   ]
  },
  {
   "cell_type": "markdown",
   "metadata": {},
   "source": [
    "## Generate a Classification Report Based Upon the Best Parameters for Accuracy Scoring"
   ]
  },
  {
   "cell_type": "markdown",
   "metadata": {},
   "source": [
    "#### Train a New Pipeline with the Optimized Parameters"
   ]
  },
  {
   "cell_type": "code",
   "execution_count": 14,
   "metadata": {},
   "outputs": [],
   "source": [
    "# Start the timer\n",
    "start_time = time.time()\n",
    "\n",
    "#will need to input the best parameters into the pipeline\n",
    "pipeline_v2 = Pipeline([\n",
    "    #The improved model considers 1-grams and 2-grams instead of just 1-grams\n",
    "    ('vect', CountVectorizer(ngram_range=(1, 2))),\n",
    "    ('tfidf', TfidfTransformer(smooth_idf=False)),\n",
    "    # It also increases the n_estimators from 100 to 200. The min_samples_split remains the same\n",
    "    ('clf', MultiOutputClassifier(RandomForestClassifier(min_samples_split=2, n_estimators=200, n_jobs=9)))\n",
    "])\n",
    "\n",
    "# Perform train test split\n",
    "X_train, X_test, y_train, y_test = train_test_split(X, y, test_size=0.33, random_state=42)\n",
    "\n",
    "# Fit the pipeline to the training data - This takes about 9 minutes to run with 9 cores\n",
    "pipeline_v2.fit(X_train, y_train)\n",
    "\n",
    "# End the timer and calculate the runtime\n",
    "end_time = time.time()\n",
    "pipeline_v2_runtime = end_time - start_time"
   ]
  },
  {
   "cell_type": "markdown",
   "metadata": {},
   "source": [
    "### Test the Optimized Model and Export the Results"
   ]
  },
  {
   "cell_type": "code",
   "execution_count": 15,
   "metadata": {},
   "outputs": [
    {
     "data": {
      "text/html": [
       "<div>\n",
       "<style scoped>\n",
       "    .dataframe tbody tr th:only-of-type {\n",
       "        vertical-align: middle;\n",
       "    }\n",
       "\n",
       "    .dataframe tbody tr th {\n",
       "        vertical-align: top;\n",
       "    }\n",
       "\n",
       "    .dataframe thead th {\n",
       "        text-align: right;\n",
       "    }\n",
       "</style>\n",
       "<table border=\"1\" class=\"dataframe\">\n",
       "  <thead>\n",
       "    <tr style=\"text-align: right;\">\n",
       "      <th></th>\n",
       "      <th>category</th>\n",
       "      <th>output_class</th>\n",
       "      <th>precision</th>\n",
       "      <th>recall</th>\n",
       "      <th>f1-score</th>\n",
       "      <th>support</th>\n",
       "    </tr>\n",
       "  </thead>\n",
       "  <tbody>\n",
       "    <tr>\n",
       "      <th>0</th>\n",
       "      <td>related</td>\n",
       "      <td>0</td>\n",
       "      <td>0.741655</td>\n",
       "      <td>0.250122</td>\n",
       "      <td>0.374085</td>\n",
       "      <td>2043.0</td>\n",
       "    </tr>\n",
       "    <tr>\n",
       "      <th>1</th>\n",
       "      <td>related</td>\n",
       "      <td>1</td>\n",
       "      <td>0.806100</td>\n",
       "      <td>0.972812</td>\n",
       "      <td>0.881645</td>\n",
       "      <td>6547.0</td>\n",
       "    </tr>\n",
       "    <tr>\n",
       "      <th>2</th>\n",
       "      <td>related</td>\n",
       "      <td>macro avg</td>\n",
       "      <td>0.773878</td>\n",
       "      <td>0.611467</td>\n",
       "      <td>0.627865</td>\n",
       "      <td>8590.0</td>\n",
       "    </tr>\n",
       "    <tr>\n",
       "      <th>3</th>\n",
       "      <td>related</td>\n",
       "      <td>weighted avg</td>\n",
       "      <td>0.790773</td>\n",
       "      <td>0.800931</td>\n",
       "      <td>0.760929</td>\n",
       "      <td>8590.0</td>\n",
       "    </tr>\n",
       "    <tr>\n",
       "      <th>4</th>\n",
       "      <td>request</td>\n",
       "      <td>0</td>\n",
       "      <td>0.903836</td>\n",
       "      <td>0.985265</td>\n",
       "      <td>0.942796</td>\n",
       "      <td>7126.0</td>\n",
       "    </tr>\n",
       "  </tbody>\n",
       "</table>\n",
       "</div>"
      ],
      "text/plain": [
       "  category  output_class  precision    recall  f1-score  support\n",
       "0  related             0   0.741655  0.250122  0.374085   2043.0\n",
       "1  related             1   0.806100  0.972812  0.881645   6547.0\n",
       "2  related     macro avg   0.773878  0.611467  0.627865   8590.0\n",
       "3  related  weighted avg   0.790773  0.800931  0.760929   8590.0\n",
       "4  request             0   0.903836  0.985265  0.942796   7126.0"
      ]
     },
     "execution_count": 15,
     "metadata": {},
     "output_type": "execute_result"
    }
   ],
   "source": [
    "# Assuming y_test and y_pred are your test labels and predicted labels respectively\n",
    "y_pred_opt = pipeline_v2.predict(X_test)\n",
    "\n",
    "# Create an empty list to store the results\n",
    "results = []\n",
    "\n",
    "for i, col in enumerate(TARGET_COLUMNS):\n",
    "    report = classification_report(y_test[:, i], y_pred_opt[:, i], output_dict=True, zero_division=0)\n",
    "    for output_class, metrics in report.items():\n",
    "        if isinstance(metrics, dict):  # Ensure metrics is a dictionary\n",
    "            temp = metrics.copy()  # Create a copy of metrics to avoid modifying the original dictionary\n",
    "            temp['output_class'] = output_class\n",
    "            temp['category'] = col\n",
    "            results.append(temp)\n",
    "\n",
    "# Convert the results list to a DataFrame\n",
    "results_df = pd.DataFrame(results)\n",
    "\n",
    "#Re-arrange the columns so that category and output_class are the first two columns\n",
    "results_df = results_df[['category', 'output_class', 'precision', 'recall', 'f1-score', 'support']]\n",
    "results_df.to_csv('data\\\\04_fct\\\\fct_prediction_results_optimized.csv', index=False)\n",
    "results_df.head()"
   ]
  },
  {
   "cell_type": "markdown",
   "metadata": {},
   "source": [
    "## Compare the Original Accuracy Parameters to the New Accuracy Parameters"
   ]
  },
  {
   "cell_type": "markdown",
   "metadata": {},
   "source": [
    "### Calculate the Percent Change per Category"
   ]
  },
  {
   "cell_type": "code",
   "execution_count": 36,
   "metadata": {},
   "outputs": [
    {
     "data": {
      "text/html": [
       "<div>\n",
       "<style scoped>\n",
       "    .dataframe tbody tr th:only-of-type {\n",
       "        vertical-align: middle;\n",
       "    }\n",
       "\n",
       "    .dataframe tbody tr th {\n",
       "        vertical-align: top;\n",
       "    }\n",
       "\n",
       "    .dataframe thead th {\n",
       "        text-align: right;\n",
       "    }\n",
       "</style>\n",
       "<table border=\"1\" class=\"dataframe\">\n",
       "  <thead>\n",
       "    <tr style=\"text-align: right;\">\n",
       "      <th></th>\n",
       "      <th>category</th>\n",
       "      <th>output_class</th>\n",
       "      <th>precision</th>\n",
       "      <th>recall</th>\n",
       "      <th>f1-score</th>\n",
       "      <th>support</th>\n",
       "    </tr>\n",
       "  </thead>\n",
       "  <tbody>\n",
       "    <tr>\n",
       "      <th>0</th>\n",
       "      <td>aid_centers</td>\n",
       "      <td>0</td>\n",
       "      <td>0.21</td>\n",
       "      <td>0.00</td>\n",
       "      <td>0.10</td>\n",
       "      <td>5139.0</td>\n",
       "    </tr>\n",
       "    <tr>\n",
       "      <th>1</th>\n",
       "      <td>aid_centers</td>\n",
       "      <td>1</td>\n",
       "      <td>0.00</td>\n",
       "      <td>0.00</td>\n",
       "      <td>0.00</td>\n",
       "      <td>67.0</td>\n",
       "    </tr>\n",
       "    <tr>\n",
       "      <th>2</th>\n",
       "      <td>aid_centers</td>\n",
       "      <td>macro avg</td>\n",
       "      <td>0.21</td>\n",
       "      <td>0.00</td>\n",
       "      <td>0.10</td>\n",
       "      <td>5206.0</td>\n",
       "    </tr>\n",
       "    <tr>\n",
       "      <th>3</th>\n",
       "      <td>aid_centers</td>\n",
       "      <td>weighted avg</td>\n",
       "      <td>0.41</td>\n",
       "      <td>0.21</td>\n",
       "      <td>0.31</td>\n",
       "      <td>5206.0</td>\n",
       "    </tr>\n",
       "    <tr>\n",
       "      <th>4</th>\n",
       "      <td>aid_related</td>\n",
       "      <td>0</td>\n",
       "      <td>-7.08</td>\n",
       "      <td>6.76</td>\n",
       "      <td>-0.79</td>\n",
       "      <td>3085.0</td>\n",
       "    </tr>\n",
       "  </tbody>\n",
       "</table>\n",
       "</div>"
      ],
      "text/plain": [
       "      category  output_class  precision  recall  f1-score  support\n",
       "0  aid_centers             0       0.21    0.00      0.10   5139.0\n",
       "1  aid_centers             1       0.00    0.00      0.00     67.0\n",
       "2  aid_centers     macro avg       0.21    0.00      0.10   5206.0\n",
       "3  aid_centers  weighted avg       0.41    0.21      0.31   5206.0\n",
       "4  aid_related             0      -7.08    6.76     -0.79   3085.0"
      ]
     },
     "execution_count": 36,
     "metadata": {},
     "output_type": "execute_result"
    }
   ],
   "source": [
    "#Import fct_prediction_results\n",
    "df_results = pd.read_csv('data\\\\04_fct\\\\fct_prediction_results.csv')\n",
    "\n",
    "#Import fct_prediction_results_optimized\n",
    "df_results_optimized = pd.read_csv('data\\\\04_fct\\\\fct_prediction_results_optimized.csv')\n",
    "\n",
    "# Set 'category' and 'output_class' as index\n",
    "df_results.set_index(['category', 'output_class', 'support'], inplace=True)\n",
    "df_results_optimized.set_index(['category', 'output_class'], inplace=True)\n",
    "\n",
    "# Calculate percent change for specific columns\n",
    "columns = ['precision', 'recall', 'f1-score']\n",
    "epsilon = 1e-7\n",
    "percent_change = round((df_results_optimized[columns] - df_results[columns]) / (df_results[columns] + epsilon) * 100, 2)\n",
    "\n",
    "# Reset index\n",
    "percent_change.reset_index(inplace=True)\n",
    "\n",
    "#Re-arrange the columns so that support is the last column\n",
    "percent_change = percent_change[['category', 'output_class', 'precision', 'recall', 'f1-score', 'support']]\n",
    "\n",
    "#Export the DataFrame to a .csv file\n",
    "percent_change.to_csv('data\\\\04_fct\\\\fct_percent_change_results.csv', index=False)\n",
    "\n",
    "#Inspect the first few rows of the DataFrame\n",
    "percent_change.head()"
   ]
  },
  {
   "cell_type": "markdown",
   "metadata": {},
   "source": [
    "### Calculate the Output Class Medians"
   ]
  },
  {
   "cell_type": "code",
   "execution_count": 37,
   "metadata": {},
   "outputs": [],
   "source": [
    "def calculate_output_class_medians(df, output_file):\n",
    "    \"\"\"\n",
    "    Calculate the median precision, recall, and f1-score by output class.\n",
    "\n",
    "    Args:\n",
    "    df (DataFrame): The DataFrame containing the results.\n",
    "    output_file (str): The path to the file where the results will be saved.\n",
    "\n",
    "    Returns:\n",
    "    DataFrame: The DataFrame containing the median metrics by output class.\n",
    "    \"\"\"\n",
    "    # Calculate the median precision, recall, and f1-score by output class\n",
    "    output_class_medians = df.groupby('output_class')[['precision', 'recall', 'f1-score']].median().round(2)\n",
    "\n",
    "    # Convert output_class_medians to a DataFrame\n",
    "    output_class_medians = output_class_medians.reset_index()\n",
    "\n",
    "    # Multiply precision, recall, and f1-score by 100 to get percentages and round to 2 decimal places.\n",
    "    output_class_medians[['precision', 'recall', 'f1-score']] = output_class_medians[['precision', 'recall', 'f1-score']] * 100\n",
    "    output_class_medians[['precision', 'recall', 'f1-score']] = output_class_medians[['precision', 'recall', 'f1-score']].round(2)\n",
    "\n",
    "    # Save output_class_medians to a .csv file\n",
    "    output_class_medians.to_csv(output_file, index=False)\n",
    "\n",
    "    return output_class_medians"
   ]
  },
  {
   "cell_type": "markdown",
   "metadata": {},
   "source": [
    "### Calculate the Percent Difference between the base and the optimized models"
   ]
  },
  {
   "cell_type": "code",
   "execution_count": 40,
   "metadata": {},
   "outputs": [],
   "source": [
    "#Calculate the percent difference between the base and optimized models\n",
    "def calculate_percent_difference(base_df, optimized_df, output_file):\n",
    "    # Set 'output_class' as the index for calculation\n",
    "    base_df.set_index('output_class', inplace=True)\n",
    "    optimized_df.set_index('output_class', inplace=True)\n",
    "\n",
    "    # Calculate percent change for specific columns\n",
    "    columns = ['precision', 'recall', 'f1-score']\n",
    "    epsilon = 1e-7\n",
    "    percent_change = round((optimized_df[columns] - base_df[columns]) / (base_df[columns] + epsilon) * 100, 2)\n",
    "\n",
    "    # Reset index to make 'output_class' a column again\n",
    "    percent_change.reset_index(inplace=True)\n",
    "\n",
    "    # Export the DataFrame to a .csv file\n",
    "    percent_change.to_csv(output_file, index=False)\n",
    "\n",
    "    return percent_change"
   ]
  },
  {
   "cell_type": "code",
   "execution_count": 39,
   "metadata": {},
   "outputs": [
    {
     "data": {
      "text/html": [
       "<div>\n",
       "<style scoped>\n",
       "    .dataframe tbody tr th:only-of-type {\n",
       "        vertical-align: middle;\n",
       "    }\n",
       "\n",
       "    .dataframe tbody tr th {\n",
       "        vertical-align: top;\n",
       "    }\n",
       "\n",
       "    .dataframe thead th {\n",
       "        text-align: right;\n",
       "    }\n",
       "</style>\n",
       "<table border=\"1\" class=\"dataframe\">\n",
       "  <thead>\n",
       "    <tr style=\"text-align: right;\">\n",
       "      <th></th>\n",
       "      <th>output_class</th>\n",
       "      <th>precision</th>\n",
       "      <th>recall</th>\n",
       "      <th>f1-score</th>\n",
       "    </tr>\n",
       "  </thead>\n",
       "  <tbody>\n",
       "    <tr>\n",
       "      <th>0</th>\n",
       "      <td>0</td>\n",
       "      <td>0.00</td>\n",
       "      <td>0.0</td>\n",
       "      <td>0.00</td>\n",
       "    </tr>\n",
       "    <tr>\n",
       "      <th>1</th>\n",
       "      <td>1</td>\n",
       "      <td>4.00</td>\n",
       "      <td>-50.0</td>\n",
       "      <td>-50.00</td>\n",
       "    </tr>\n",
       "    <tr>\n",
       "      <th>2</th>\n",
       "      <td>macro avg</td>\n",
       "      <td>0.00</td>\n",
       "      <td>-3.7</td>\n",
       "      <td>-7.02</td>\n",
       "    </tr>\n",
       "    <tr>\n",
       "      <th>3</th>\n",
       "      <td>weighted avg</td>\n",
       "      <td>-1.04</td>\n",
       "      <td>0.0</td>\n",
       "      <td>-1.05</td>\n",
       "    </tr>\n",
       "  </tbody>\n",
       "</table>\n",
       "</div>"
      ],
      "text/plain": [
       "   output_class  precision  recall  f1-score\n",
       "0             0       0.00     0.0      0.00\n",
       "1             1       4.00   -50.0    -50.00\n",
       "2     macro avg       0.00    -3.7     -7.02\n",
       "3  weighted avg      -1.04     0.0     -1.05"
      ]
     },
     "execution_count": 39,
     "metadata": {},
     "output_type": "execute_result"
    }
   ],
   "source": [
    "base_median_metrics_df = calculate_output_class_medians(df_results, 'data\\\\04_fct\\\\fct_median_metrics_by_output_class_base.csv')\n",
    "optimized_median_metrics_df = calculate_output_class_medians(df_results_optimized, 'data\\\\04_fct\\\\fct_median_metrics_by_output_class_optimized.csv')\n",
    "percent_difference_df = calculate_percent_difference(base_median_metrics_df, optimized_median_metrics_df, 'data\\\\04_fct\\\\fct_percent_difference.csv')\n",
    "percent_difference_df"
   ]
  },
  {
   "cell_type": "code",
   "execution_count": 37,
   "metadata": {},
   "outputs": [
    {
     "data": {
      "text/markdown": [
       "<p style=\"font-size:16px\">\n",
       "    The optimized pipeline took 5 minutes and 49.84 seconds longer to train than the original pipeline\n",
       "    (from 1 minutes and 20.10 seconds to 7 minutes and 9.94 seconds).\n",
       "    </p>\n",
       "    "
      ],
      "text/plain": [
       "<IPython.core.display.Markdown object>"
      ]
     },
     "metadata": {},
     "output_type": "display_data"
    }
   ],
   "source": [
    "# Calculate the difference in training time between the original and optimized pipelines\n",
    "training_time_difference = pipeline_v2_runtime - pipeline_runtime\n",
    "\n",
    "# Convert the times to minutes and seconds\n",
    "pipeline_runtime_minutes, pipeline_runtime_seconds = divmod(pipeline_runtime, 60)\n",
    "pipeline_v2_runtime_minutes, pipeline_v2_runtime_seconds = divmod(pipeline_v2_runtime, 60)\n",
    "training_time_difference_minutes, training_time_difference_seconds = divmod(training_time_difference, 60)\n",
    "\n",
    "# Convert the minutes to integers\n",
    "pipeline_runtime_minutes = int(pipeline_runtime_minutes)\n",
    "pipeline_v2_runtime_minutes = int(pipeline_v2_runtime_minutes)\n",
    "training_time_difference_minutes = int(training_time_difference_minutes)\n",
    "\n",
    "display(Markdown(\n",
    "    f'''<p style=\"font-size:16px\">\n",
    "    The optimized pipeline took {training_time_difference_minutes} minutes and {training_time_difference_seconds:.2f} seconds longer to train than the original pipeline\n",
    "    (from {pipeline_runtime_minutes} minutes and {pipeline_runtime_seconds:.2f} seconds to {pipeline_v2_runtime_minutes} minutes and {pipeline_v2_runtime_seconds:.2f} seconds).\n",
    "    </p>\n",
    "    '''\n",
    "))"
   ]
  },
  {
   "cell_type": "markdown",
   "metadata": {},
   "source": [
    "# Export the original model as a pickle file"
   ]
  },
  {
   "cell_type": "code",
   "execution_count": 42,
   "metadata": {},
   "outputs": [
    {
     "name": "stdout",
     "output_type": "stream",
     "text": [
      "Size of original model file, compressed: 862.134449005127 MB\n",
      "Pickling time: 0.0 minutes and 3 seconds\n",
      "Size of optimized model file, compressed: 1423.9854917526245 MB\n",
      "Pickling time: 0.0 minutes and 5 seconds\n"
     ]
    }
   ],
   "source": [
    "#Note: compressing the files takes significantly longer than pickling them\n",
    "# Start the timer\n",
    "start_time = time.time()\n",
    "\n",
    "# Save the model\n",
    "with open('models/original_accuracy_model.pkl', 'wb') as f:\n",
    "    pickle.dump(pipeline, f)\n",
    "    \n",
    "end_time = time.time()\n",
    "original_accuracy_model_compression_time = end_time - start_time\n",
    "minutes, seconds = divmod(original_accuracy_model_compression_time, 60)\n",
    "\n",
    "# Print the size of the original model file\n",
    "print(\"Size of original model file, compressed:\", os.path.getsize('models/original_accuracy_model.pkl') / (1024 * 1024), \"MB\")\n",
    "print(\"Pickling time: {} minutes and {} seconds\".format(minutes, round(seconds)))\n",
    "\n",
    "# Start the timer\n",
    "start_time = time.time()\n",
    "\n",
    "# # Save the optimized model\n",
    "with open('models/gs_optimized_accuracy_model.pkl', 'wb') as f:\n",
    "    pickle.dump(pipeline_v2, f)\n",
    "    \n",
    "end_time = time.time()\n",
    "optimized_accuracy_model_compression_time = end_time - start_time\n",
    "minutes, seconds = divmod(optimized_accuracy_model_compression_time, 60)\n",
    "\n",
    "# Print the size of the optimized model file\n",
    "print(\"Size of optimized model file, compressed:\", os.path.getsize('models/gs_optimized_accuracy_model.pkl') / (1024 * 1024), \"MB\")\n",
    "print(\"Pickling time: {} minutes and {} seconds\".format(minutes, round(seconds)))\n"
   ]
  },
  {
   "cell_type": "code",
   "execution_count": 46,
   "metadata": {},
   "outputs": [
    {
     "name": "stdout",
     "output_type": "stream",
     "text": [
      "The optimized model is 561.85 MB larger than the original model\n"
     ]
    }
   ],
   "source": [
    "#Calculate the difference in model file size\n",
    "original_model_size = os.path.getsize('models/original_accuracy_model.pkl')\n",
    "optimized_model_size = os.path.getsize('models/gs_optimized_accuracy_model.pkl')\n",
    "model_size_difference = optimized_model_size - original_model_size\n",
    "model_size_difference = round(model_size_difference / (1024 * 1024), 2)\n",
    "print(\"The optimized model is {} MB larger than the original model\".format(model_size_difference))"
   ]
  },
  {
   "cell_type": "code",
   "execution_count": 21,
   "metadata": {},
   "outputs": [
    {
     "name": "stdout",
     "output_type": "stream",
     "text": [
      "[[1 0 0 1 0 0 0 0 0 0 0 0 0 0 0 0 0 0 0 0 0 0 0 0 0 0 0 0 0 0 0 0 0 0 0 0]\n",
      " [1 0 0 1 0 0 0 0 0 0 0 1 0 0 0 0 0 0 0 0 0 0 0 0 0 0 0 0 1 0 1 0 0 0 0 0]\n",
      " [1 0 0 0 0 0 0 0 0 0 0 0 0 0 0 0 0 0 0 0 0 0 0 0 0 0 0 0 0 0 0 0 0 0 0 0]\n",
      " [1 0 0 0 0 0 0 0 0 0 0 0 0 0 0 0 0 0 0 0 0 0 0 0 0 0 0 0 1 0 0 0 1 0 0 0]\n",
      " [1 0 0 1 0 0 0 0 0 0 0 0 0 0 0 0 0 0 0 0 0 0 0 0 0 0 0 0 1 1 1 0 0 0 0 0]\n",
      " [1 0 0 1 0 0 0 0 0 0 0 0 0 0 0 0 0 0 0 0 0 0 0 0 0 0 0 0 1 0 0 0 0 0 0 0]\n",
      " [1 0 0 1 0 0 0 0 0 0 0 0 0 0 0 0 0 0 0 0 0 0 0 0 0 0 0 0 0 0 0 0 0 0 0 0]\n",
      " [1 0 0 1 0 0 0 0 0 0 0 0 1 0 0 0 0 0 0 0 0 0 0 0 0 0 0 0 0 0 0 0 0 0 0 1]\n",
      " [0 0 0 0 0 0 0 0 0 0 0 0 0 0 0 0 0 0 0 0 0 0 0 0 0 0 0 0 0 0 0 0 0 0 0 0]\n",
      " [1 0 0 0 0 0 0 0 0 0 0 0 0 0 0 0 0 0 0 0 0 0 0 0 0 0 0 0 1 0 1 0 0 0 0 0]]\n"
     ]
    }
   ],
   "source": [
    "#Test to make sure the model is working\n",
    "# Load the original trained model\n",
    "with open('models/original_accuracy_model.pkl', 'rb') as f:\n",
    "    loaded_model = pickle.load(f)\n",
    "\n",
    "# Assuming X_test is your test features\n",
    "y_pred = loaded_model.predict(X_test[:10])\n",
    "\n",
    "# Now y_pred contains the predictions from the loaded model\n",
    "print(y_pred)"
   ]
  },
  {
   "cell_type": "code",
   "execution_count": null,
   "metadata": {},
   "outputs": [],
   "source": []
  }
 ],
 "metadata": {
  "kernelspec": {
   "display_name": ".venv",
   "language": "python",
   "name": "python3"
  },
  "language_info": {
   "codemirror_mode": {
    "name": "ipython",
    "version": 3
   },
   "file_extension": ".py",
   "mimetype": "text/x-python",
   "name": "python",
   "nbconvert_exporter": "python",
   "pygments_lexer": "ipython3",
   "version": "3.12.0"
  }
 },
 "nbformat": 4,
 "nbformat_minor": 2
}
