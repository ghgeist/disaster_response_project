{
 "cells": [
  {
   "cell_type": "code",
   "execution_count": 1,
   "metadata": {},
   "outputs": [],
   "source": [
    "import pandas as pd"
   ]
  },
  {
   "cell_type": "code",
   "execution_count": 3,
   "metadata": {},
   "outputs": [],
   "source": [
    "definitions = {\n",
    "    'id': 'Unique identifier for each message',\n",
    "    'message': 'Content of the message',\n",
    "    'original': 'Original message text (if available). Given than the messages are in Haitian Creole, this column is useful for translation purposes',\n",
    "    'genre': 'Genre of the message. Values should be news, direct and social',\n",
    "    'related': 'Whether the message is related to the disaster or not (binary)',\n",
    "    'request': 'Whether the message is a request for help (binary)',\n",
    "    'offer': 'Whether the message is an offer of help (binary)',\n",
    "    'aid_related': 'Whether the message is related to aid (binary)',\n",
    "    'medical_help': 'Whether the message requests medical help (binary)',\n",
    "    'medical_products': 'Whether the message requests medical products (binary)',\n",
    "    'search_and_rescue': 'Whether the message requests search and rescue help (binary)',\n",
    "    'security': 'Whether the message requests security assistance (binary)',\n",
    "    'military': 'Whether the message requests military assistance (binary)',\n",
    "    'child_alone': 'Whether the message requests assistance for children alone (binary)',\n",
    "    'water': 'Whether the message requests water (binary)',\n",
    "    'food': 'Whether the message requests food (binary)',\n",
    "    'shelter': 'Whether the message requests shelter (binary)',\n",
    "    'clothing': 'Whether the message requests clothing (binary)',\n",
    "    'money': 'Whether the message requests money (binary)',\n",
    "    'missing_people': 'Whether the message reports missing people (binary)',\n",
    "    'refugees': 'Whether the message reports refugees (binary)',\n",
    "    'death': 'Whether the message reports deaths (binary)',\n",
    "    'other_aid': 'Whether the message requests other aid (binary)',\n",
    "    'infrastructure_related': 'Whether the message relates to infrastructure issues (binary)',\n",
    "    'transport': 'Whether the message requests transportation assistance (binary)',\n",
    "    'buildings': 'Whether the message reports damage to buildings (binary)',\n",
    "    'electricity': 'Whether the message requests electricity (binary)',\n",
    "    'tools': 'Whether the message requests tools (binary)',\n",
    "    'hospitals': 'Whether the message requests hospitals (binary)',\n",
    "    'shops': 'Whether the message requests shops (binary)',\n",
    "    'aid_centers': 'Whether the message requests aid centers (binary)',\n",
    "    'other_infrastructure': 'Whether the message requests other infrastructure assistance (binary)',\n",
    "    'weather_related': 'Whether the message is related to weather events (binary)',\n",
    "    'floods': 'Whether the message is related to floods (binary)',\n",
    "    'storm': 'Whether the message is related to storms (binary)',\n",
    "    'fire': 'Whether the message is related to fires (binary)',\n",
    "    'earthquake': 'Whether the message is related to earthquakes (binary)',\n",
    "    'cold': 'Whether the message is related to cold weather (binary)',\n",
    "    'other_weather': 'Whether the message is related to other weather events (binary)',\n",
    "    'direct_report': 'Whether the message is a direct report (binary)'\n",
    "}\n",
    "\n",
    "#Create a dataframe with the definitions\n",
    "definitions_df = pd.DataFrame(definitions.items(), columns=['Column', 'Definition'])\n",
    "\n",
    "#Write the definitions to a csv\n",
    "definitions_df.to_csv('data\\\\02_stg\\\\stg_disaster_messages_definitions.csv', index=False)"
   ]
  }
 ],
 "metadata": {
  "kernelspec": {
   "display_name": ".venv",
   "language": "python",
   "name": "python3"
  },
  "language_info": {
   "codemirror_mode": {
    "name": "ipython",
    "version": 3
   },
   "file_extension": ".py",
   "mimetype": "text/x-python",
   "name": "python",
   "nbconvert_exporter": "python",
   "pygments_lexer": "ipython3",
   "version": "3.12.0"
  }
 },
 "nbformat": 4,
 "nbformat_minor": 2
}
