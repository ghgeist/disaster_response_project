{
 "cells": [
  {
   "cell_type": "code",
   "execution_count": null,
   "metadata": {},
   "outputs": [],
   "source": [
    "# I want to see a distribution of how many categories each tweet has\n",
    "row_sums = df[boolean_columns].sum(axis=1)\n",
    "row_sums.value_counts()\n",
    "\n",
    "#Graph the results\n",
    "row_sums.value_counts().plot(kind='bar')\n",
    "plt.xlabel('Number of Categories')\n",
    "plt.ylabel('Number of Tweets')\n",
    "plt.title('Number of Categories per Tweet')\n",
    "plt.show()"
   ]
  },
  {
   "cell_type": "code",
   "execution_count": null,
   "metadata": {},
   "outputs": [],
   "source": [
    "# Group by 'original' and count the unique values of 'message'\n",
    "original_counts = df.groupby('original')['message'].nunique()\n",
    "\n",
    "# Convert the series to a dataframe\n",
    "original_counts = original_counts.reset_index()\n",
    "\n",
    "# Sort the dataframe by the number of unique messages descending\n",
    "original_counts = original_counts.sort_values('message', ascending=False)\n",
    "original_counts.head()"
   ]
  },
  {
   "cell_type": "code",
   "execution_count": null,
   "metadata": {},
   "outputs": [],
   "source": [
    "#filter the df where 'original' is equal to 'Nap fe ou konnen ke apati de jodi a sevis SMS 4636 pou enfomasyon ijan'\n",
    "#Only show the 'message' column\n",
    "df[df['original'] == 'Nap fe ou konnen ke apati de jodi a sevis SMS 4636 pou enfomasyon ijan']['message'].head()"
   ]
  },
  {
   "cell_type": "code",
   "execution_count": null,
   "metadata": {},
   "outputs": [],
   "source": [
    "#Count the number of unique original messages\n",
    "unique_original_messages = df['original'].nunique()\n",
    "print('There are', unique_original_messages,'unique original messages')\n",
    "\n",
    "#From the original_counts dataframe, count the number of original messages that have more than one unique message\n",
    "num_multi_translatations = original_counts[original_counts['message'] > 1].shape[0]\n",
    "print('There are', num_multi_translatations,'tweets with multiple translations')\n",
    "\n",
    "#Calculate the percentage of original messages that have more than one unique message\n",
    "multi_translation_percentage = (num_multi_translatations / unique_original_messages) * 100\n",
    "print(f'The percentage of original messages that have more than one unique message is {multi_translation_percentage:.2f}%')"
   ]
  },
  {
   "cell_type": "code",
   "execution_count": null,
   "metadata": {},
   "outputs": [],
   "source": [
    "# Calculate the row sums\n",
    "row_sums = df[boolean_columns].sum(axis=1)\n",
    "\n",
    "# Calculate the number of rows and percentage that have more than one category set to True\n",
    "multi_true_rows = df[row_sums > 1]\n",
    "multi_true_count = multi_true_rows.shape[0]\n",
    "multi_true_percentage = (multi_true_count / total_rows) * 100\n",
    "print(f'Number of rows with more than one boolean column set to True: {multi_true_count} ({multi_true_percentage:.2f}%)')\n",
    "\n",
    "# Calculate the number of rows and percentage that have one category set to True\n",
    "one_true_rows = df[row_sums == 1]\n",
    "one_true_count = one_true_rows.shape[0]\n",
    "one_true_percentage = (one_true_count / total_rows) * 100\n",
    "print(f'Number of rows with one boolean column set to True: {one_true_count} ({one_true_percentage:.2f}%)')\n",
    "\n",
    "# Calculate the number of rows and percentage that have no category set to True\n",
    "no_true_rows = df[row_sums == 0]\n",
    "no_true_count = no_true_rows.shape[0]\n",
    "no_true_percentage = (no_true_count / total_rows) * 100\n",
    "print(f'Number of rows with no boolean column set to True: {no_true_count} ({no_true_percentage:.2f}%)')"
   ]
  }
 ],
 "metadata": {
  "language_info": {
   "name": "python"
  }
 },
 "nbformat": 4,
 "nbformat_minor": 2
}
