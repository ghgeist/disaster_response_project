{
 "cells": [
  {
   "cell_type": "code",
   "execution_count": 2,
   "metadata": {},
   "outputs": [],
   "source": [
    "import pandas as pd\n",
    "import numpy as np\n",
    "import matplotlib.pyplot as plt\n",
    "import seaborn as sns\n"
   ]
  },
  {
   "cell_type": "code",
   "execution_count": 4,
   "metadata": {},
   "outputs": [
    {
     "name": "stderr",
     "output_type": "stream",
     "text": [
      "C:\\Users\\grant\\AppData\\Local\\Temp\\ipykernel_23388\\3261564891.py:2: DtypeWarning: Columns (2) have mixed types. Specify dtype option on import or set low_memory=False.\n",
      "  df = pd.read_csv('data\\\\02_stg\\\\stg_disaster_messages.csv')\n"
     ]
    },
    {
     "data": {
      "text/html": [
       "<div>\n",
       "<style scoped>\n",
       "    .dataframe tbody tr th:only-of-type {\n",
       "        vertical-align: middle;\n",
       "    }\n",
       "\n",
       "    .dataframe tbody tr th {\n",
       "        vertical-align: top;\n",
       "    }\n",
       "\n",
       "    .dataframe thead th {\n",
       "        text-align: right;\n",
       "    }\n",
       "</style>\n",
       "<table border=\"1\" class=\"dataframe\">\n",
       "  <thead>\n",
       "    <tr style=\"text-align: right;\">\n",
       "      <th></th>\n",
       "      <th>id</th>\n",
       "      <th>message</th>\n",
       "      <th>original</th>\n",
       "      <th>genre</th>\n",
       "      <th>related</th>\n",
       "      <th>request</th>\n",
       "      <th>offer</th>\n",
       "      <th>aid_related</th>\n",
       "      <th>medical_help</th>\n",
       "      <th>medical_products</th>\n",
       "      <th>...</th>\n",
       "      <th>aid_centers</th>\n",
       "      <th>other_infrastructure</th>\n",
       "      <th>weather_related</th>\n",
       "      <th>floods</th>\n",
       "      <th>storm</th>\n",
       "      <th>fire</th>\n",
       "      <th>earthquake</th>\n",
       "      <th>cold</th>\n",
       "      <th>other_weather</th>\n",
       "      <th>direct_report</th>\n",
       "    </tr>\n",
       "  </thead>\n",
       "  <tbody>\n",
       "    <tr>\n",
       "      <th>0</th>\n",
       "      <td>2</td>\n",
       "      <td>Weather update - a cold front from Cuba that c...</td>\n",
       "      <td>Un front froid se retrouve sur Cuba ce matin. ...</td>\n",
       "      <td>direct</td>\n",
       "      <td>1</td>\n",
       "      <td>0</td>\n",
       "      <td>0</td>\n",
       "      <td>0</td>\n",
       "      <td>0</td>\n",
       "      <td>0</td>\n",
       "      <td>...</td>\n",
       "      <td>0</td>\n",
       "      <td>0</td>\n",
       "      <td>0</td>\n",
       "      <td>0</td>\n",
       "      <td>0</td>\n",
       "      <td>0</td>\n",
       "      <td>0</td>\n",
       "      <td>0</td>\n",
       "      <td>0</td>\n",
       "      <td>0</td>\n",
       "    </tr>\n",
       "    <tr>\n",
       "      <th>1</th>\n",
       "      <td>7</td>\n",
       "      <td>Is the Hurricane over or is it not over</td>\n",
       "      <td>Cyclone nan fini osinon li pa fini</td>\n",
       "      <td>direct</td>\n",
       "      <td>1</td>\n",
       "      <td>0</td>\n",
       "      <td>0</td>\n",
       "      <td>1</td>\n",
       "      <td>0</td>\n",
       "      <td>0</td>\n",
       "      <td>...</td>\n",
       "      <td>0</td>\n",
       "      <td>0</td>\n",
       "      <td>1</td>\n",
       "      <td>0</td>\n",
       "      <td>1</td>\n",
       "      <td>0</td>\n",
       "      <td>0</td>\n",
       "      <td>0</td>\n",
       "      <td>0</td>\n",
       "      <td>0</td>\n",
       "    </tr>\n",
       "  </tbody>\n",
       "</table>\n",
       "<p>2 rows × 40 columns</p>\n",
       "</div>"
      ],
      "text/plain": [
       "   id                                            message  \\\n",
       "0   2  Weather update - a cold front from Cuba that c...   \n",
       "1   7            Is the Hurricane over or is it not over   \n",
       "\n",
       "                                            original   genre  related  \\\n",
       "0  Un front froid se retrouve sur Cuba ce matin. ...  direct        1   \n",
       "1                 Cyclone nan fini osinon li pa fini  direct        1   \n",
       "\n",
       "   request  offer  aid_related  medical_help  medical_products  ...  \\\n",
       "0        0      0            0             0                 0  ...   \n",
       "1        0      0            1             0                 0  ...   \n",
       "\n",
       "   aid_centers  other_infrastructure  weather_related  floods  storm  fire  \\\n",
       "0            0                     0                0       0      0     0   \n",
       "1            0                     0                1       0      1     0   \n",
       "\n",
       "   earthquake  cold  other_weather  direct_report  \n",
       "0           0     0              0              0  \n",
       "1           0     0              0              0  \n",
       "\n",
       "[2 rows x 40 columns]"
      ]
     },
     "execution_count": 4,
     "metadata": {},
     "output_type": "execute_result"
    }
   ],
   "source": [
    "# Load the data\n",
    "df = pd.read_csv('data\\\\02_stg\\\\stg_disaster_messages.csv')\n",
    "df.head(n=2)"
   ]
  },
  {
   "cell_type": "code",
   "execution_count": 14,
   "metadata": {},
   "outputs": [
    {
     "data": {
      "text/html": [
       "<div>\n",
       "<style scoped>\n",
       "    .dataframe tbody tr th:only-of-type {\n",
       "        vertical-align: middle;\n",
       "    }\n",
       "\n",
       "    .dataframe tbody tr th {\n",
       "        vertical-align: top;\n",
       "    }\n",
       "\n",
       "    .dataframe thead th {\n",
       "        text-align: right;\n",
       "    }\n",
       "</style>\n",
       "<table border=\"1\" class=\"dataframe\">\n",
       "  <thead>\n",
       "    <tr style=\"text-align: right;\">\n",
       "      <th></th>\n",
       "      <th>message</th>\n",
       "      <th>message_type</th>\n",
       "    </tr>\n",
       "  </thead>\n",
       "  <tbody>\n",
       "    <tr>\n",
       "      <th>3</th>\n",
       "      <td>UN reports Leogane 80-90 destroyed. Only Hospi...</td>\n",
       "      <td>request</td>\n",
       "    </tr>\n",
       "    <tr>\n",
       "      <th>7</th>\n",
       "      <td>Please, we need tents and water. We are in Sil...</td>\n",
       "      <td>request</td>\n",
       "    </tr>\n",
       "    <tr>\n",
       "      <th>9</th>\n",
       "      <td>I am in Croix-des-Bouquets. We have health iss...</td>\n",
       "      <td>request</td>\n",
       "    </tr>\n",
       "    <tr>\n",
       "      <th>10</th>\n",
       "      <td>There's nothing to eat and water, we starving ...</td>\n",
       "      <td>request</td>\n",
       "    </tr>\n",
       "    <tr>\n",
       "      <th>12</th>\n",
       "      <td>I am in Thomassin number 32, in the area named...</td>\n",
       "      <td>request</td>\n",
       "    </tr>\n",
       "  </tbody>\n",
       "</table>\n",
       "</div>"
      ],
      "text/plain": [
       "                                              message message_type\n",
       "3   UN reports Leogane 80-90 destroyed. Only Hospi...      request\n",
       "7   Please, we need tents and water. We are in Sil...      request\n",
       "9   I am in Croix-des-Bouquets. We have health iss...      request\n",
       "10  There's nothing to eat and water, we starving ...      request\n",
       "12  I am in Thomassin number 32, in the area named...      request"
      ]
     },
     "execution_count": 14,
     "metadata": {},
     "output_type": "execute_result"
    }
   ],
   "source": [
    "#Filter df where genre is 'direct', related is 1 and request is 1\n",
    "df_filtered = df[(df['genre'] == 'direct') & (df['related'] == 1) & (df['request'] == 1)]\n",
    "\n",
    "# Drop all columns except 'message', 'request', 'offer', 'direct_report'\n",
    "df_filtered = df_filtered[['message', 'request', 'offer', 'direct_report']]\n",
    "\n",
    "#Create a new column called 'message_type' which returns 'request' if request is 1, 'offer' if offer is 1 and 'direct_report' if direct_report is 1\n",
    "df_filtered['message_type'] = df_filtered.apply(\n",
    "    lambda x: 'request' if x['request'] == 1 else ('offer' if x['offer'] == 1 else ('direct_report' if x['direct_report'] == 1 else 'unknown')), \n",
    "    axis=1\n",
    ")\n",
    "\n",
    "# Drop the 'request', 'offer' and 'direct_report' columns\n",
    "df_filtered = df_filtered.drop(columns=['request', 'offer', 'direct_report'])\n",
    "\n",
    "#drop duplicates\n",
    "df_filtered = df_filtered.drop_duplicates()\n",
    "\n",
    "df_filtered.head()"
   ]
  },
  {
   "cell_type": "code",
   "execution_count": 15,
   "metadata": {},
   "outputs": [
    {
     "data": {
      "text/plain": [
       "0"
      ]
     },
     "execution_count": 15,
     "metadata": {},
     "output_type": "execute_result"
    }
   ],
   "source": [
    "#check for duplicates\n",
    "df_filtered.duplicated().sum()"
   ]
  },
  {
   "cell_type": "code",
   "execution_count": 23,
   "metadata": {},
   "outputs": [],
   "source": [
    "import warnings\n",
    "\n",
    "def classify_messages_types(df):\n",
    "    # Filter df where genre is 'direct', related is 1 and request is 1\n",
    "    df_filtered = df[(df['genre'] == 'direct') & (df['related'] == 1)]\n",
    "\n",
    "    # Drop all columns except 'message', 'request', 'offer', 'direct_report'\n",
    "    df_filtered = df_filtered[['message', 'request', 'offer', 'direct_report']]\n",
    "\n",
    "    # Create a new column called 'message_type' which returns 'request' if request is 1, 'offer' if offer is 1 and 'direct_report' if direct_report is 1\n",
    "    df_filtered['message_type'] = df_filtered.apply(\n",
    "        lambda x: 'offer' if x['offer'] == 1 else ('request' if x['request'] == 1 else ('direct_report' if x['direct_report'] == 1 else 'other')),\n",
    "        axis=1\n",
    "    )\n",
    "\n",
    "    # Drop the 'request', 'offer' and 'direct_report' columns\n",
    "    df_filtered = df_filtered.drop(columns=['request', 'offer', 'direct_report'])\n",
    "\n",
    "    # Check if the number of duplicates is greater than 1% of the DataFrame's length\n",
    "    num_duplicates = df_filtered.duplicated().sum()\n",
    "    if num_duplicates > len(df_filtered) * 0.01:\n",
    "        warnings.warn(f\"Dropping {num_duplicates} duplicates, which is more than 1% of the DataFrame's length\")\n",
    "\n",
    "    # Drop duplicates\n",
    "    df_filtered = df_filtered.drop_duplicates()\n",
    "\n",
    "    return df_filtered"
   ]
  },
  {
   "cell_type": "code",
   "execution_count": 25,
   "metadata": {},
   "outputs": [],
   "source": [
    "import plotly.graph_objs as go\n",
    "\n",
    "def create_plotly_graph(df):\n",
    "    # Count the number of messages per message_type\n",
    "    message_types_count = df['message_type'].value_counts()\n",
    "\n",
    "    # Create a dictionary representing a Plotly graph object\n",
    "    graph = {\n",
    "        'data': [\n",
    "            go.Bar(\n",
    "                x=message_types_count.index.tolist(),\n",
    "                y=message_types_count.values.tolist(),\n",
    "                name='Count'\n",
    "            )\n",
    "        ],\n",
    "\n",
    "        'layout': {\n",
    "            'title': 'Number of Messages per Message Type',\n",
    "            'xaxis': {\n",
    "                'title': \"Message Type\"\n",
    "            },\n",
    "            'yaxis': {\n",
    "                'title': \"Number of Messages\"\n",
    "            },\n",
    "            'barmode': 'stack'\n",
    "        }\n",
    "    }\n",
    "\n",
    "    return graph"
   ]
  },
  {
   "cell_type": "code",
   "execution_count": 26,
   "metadata": {},
   "outputs": [
    {
     "name": "stdout",
     "output_type": "stream",
     "text": [
      "{'data': [Bar({\n",
      "    'name': 'Count', 'x': ['request', 'unknown', 'direct_report', 'offer'], 'y': [3689, 2935, 504, 46]\n",
      "})], 'layout': {'title': 'Number of Messages per Message Type', 'xaxis': {'title': 'Message Type'}, 'yaxis': {'title': 'Number of Messages'}, 'barmode': 'stack'}}\n"
     ]
    }
   ],
   "source": [
    "messsage_types_df = classify_messages_types(df)\n",
    "\n",
    "message_type_graph = create_plotly_graph(messsage_types_df)\n",
    "print(message_type_graph)"
   ]
  },
  {
   "cell_type": "code",
   "execution_count": null,
   "metadata": {},
   "outputs": [],
   "source": []
  }
 ],
 "metadata": {
  "kernelspec": {
   "display_name": ".venv",
   "language": "python",
   "name": "python3"
  },
  "language_info": {
   "codemirror_mode": {
    "name": "ipython",
    "version": 3
   },
   "file_extension": ".py",
   "mimetype": "text/x-python",
   "name": "python",
   "nbconvert_exporter": "python",
   "pygments_lexer": "ipython3",
   "version": "3.12.0"
  }
 },
 "nbformat": 4,
 "nbformat_minor": 2
}
